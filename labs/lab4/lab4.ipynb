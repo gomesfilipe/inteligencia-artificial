{
  "cells": [
    {
      "cell_type": "markdown",
      "metadata": {
        "id": "XMKOwsrEQCTX"
      },
      "source": [
        "# Laboratório 4 - Pré-processamento de dados\n",
        "Filipe Gomes Arante de Souza"
      ]
    },
    {
      "cell_type": "markdown",
      "metadata": {
        "id": "mgz_wIVWQPLp"
      },
      "source": [
        "1. Carregue a base iris e a separe em treino e teste usando 40% dos exemplos para teste. Reduza a\n",
        "base de treino para ter apenas os 24 exemplos iniciais e a de teste para ter apenas os 16 exemplos\n",
        "iniciais. Considere que o valor 1.5 representa um elemento ausente. Substitua as ocorrências de\n",
        "valores ausentes pelo valor mais frequente nas bases de treino e de teste reduzidas."
      ]
    },
    {
      "cell_type": "code",
      "execution_count": 6,
      "metadata": {
        "id": "RHyK06MDj2Hw"
      },
      "outputs": [
        {
          "data": {
            "text/html": [
              "<div>\n",
              "<style scoped>\n",
              "    .dataframe tbody tr th:only-of-type {\n",
              "        vertical-align: middle;\n",
              "    }\n",
              "\n",
              "    .dataframe tbody tr th {\n",
              "        vertical-align: top;\n",
              "    }\n",
              "\n",
              "    .dataframe thead th {\n",
              "        text-align: right;\n",
              "    }\n",
              "</style>\n",
              "<table border=\"1\" class=\"dataframe\">\n",
              "  <thead>\n",
              "    <tr style=\"text-align: right;\">\n",
              "      <th></th>\n",
              "      <th>0</th>\n",
              "      <th>1</th>\n",
              "      <th>2</th>\n",
              "      <th>3</th>\n",
              "    </tr>\n",
              "  </thead>\n",
              "  <tbody>\n",
              "    <tr>\n",
              "      <th>0</th>\n",
              "      <td>5.1</td>\n",
              "      <td>3.5</td>\n",
              "      <td>1.4</td>\n",
              "      <td>0.2</td>\n",
              "    </tr>\n",
              "    <tr>\n",
              "      <th>1</th>\n",
              "      <td>4.9</td>\n",
              "      <td>3.0</td>\n",
              "      <td>1.4</td>\n",
              "      <td>0.2</td>\n",
              "    </tr>\n",
              "    <tr>\n",
              "      <th>2</th>\n",
              "      <td>4.7</td>\n",
              "      <td>3.2</td>\n",
              "      <td>1.3</td>\n",
              "      <td>0.2</td>\n",
              "    </tr>\n",
              "    <tr>\n",
              "      <th>3</th>\n",
              "      <td>4.6</td>\n",
              "      <td>3.1</td>\n",
              "      <td>1.5</td>\n",
              "      <td>0.2</td>\n",
              "    </tr>\n",
              "    <tr>\n",
              "      <th>4</th>\n",
              "      <td>5.0</td>\n",
              "      <td>3.6</td>\n",
              "      <td>1.4</td>\n",
              "      <td>0.2</td>\n",
              "    </tr>\n",
              "    <tr>\n",
              "      <th>...</th>\n",
              "      <td>...</td>\n",
              "      <td>...</td>\n",
              "      <td>...</td>\n",
              "      <td>...</td>\n",
              "    </tr>\n",
              "    <tr>\n",
              "      <th>145</th>\n",
              "      <td>6.7</td>\n",
              "      <td>3.0</td>\n",
              "      <td>5.2</td>\n",
              "      <td>2.3</td>\n",
              "    </tr>\n",
              "    <tr>\n",
              "      <th>146</th>\n",
              "      <td>6.3</td>\n",
              "      <td>2.5</td>\n",
              "      <td>5.0</td>\n",
              "      <td>1.9</td>\n",
              "    </tr>\n",
              "    <tr>\n",
              "      <th>147</th>\n",
              "      <td>6.5</td>\n",
              "      <td>3.0</td>\n",
              "      <td>5.2</td>\n",
              "      <td>2.0</td>\n",
              "    </tr>\n",
              "    <tr>\n",
              "      <th>148</th>\n",
              "      <td>6.2</td>\n",
              "      <td>3.4</td>\n",
              "      <td>5.4</td>\n",
              "      <td>2.3</td>\n",
              "    </tr>\n",
              "    <tr>\n",
              "      <th>149</th>\n",
              "      <td>5.9</td>\n",
              "      <td>3.0</td>\n",
              "      <td>5.1</td>\n",
              "      <td>1.8</td>\n",
              "    </tr>\n",
              "  </tbody>\n",
              "</table>\n",
              "<p>150 rows × 4 columns</p>\n",
              "</div>"
            ],
            "text/plain": [
              "       0    1    2    3\n",
              "0    5.1  3.5  1.4  0.2\n",
              "1    4.9  3.0  1.4  0.2\n",
              "2    4.7  3.2  1.3  0.2\n",
              "3    4.6  3.1  1.5  0.2\n",
              "4    5.0  3.6  1.4  0.2\n",
              "..   ...  ...  ...  ...\n",
              "145  6.7  3.0  5.2  2.3\n",
              "146  6.3  2.5  5.0  1.9\n",
              "147  6.5  3.0  5.2  2.0\n",
              "148  6.2  3.4  5.4  2.3\n",
              "149  5.9  3.0  5.1  1.8\n",
              "\n",
              "[150 rows x 4 columns]"
            ]
          },
          "execution_count": 6,
          "metadata": {},
          "output_type": "execute_result"
        }
      ],
      "source": [
        "import pandas as pd\n",
        "from sklearn import datasets\n",
        "from sklearn.model_selection import train_test_split\n",
        "\n",
        "iris = datasets.load_iris()\n",
        "\n",
        "df = pd.DataFrame(data = iris.data)\n",
        "df"
      ]
    },
    {
      "cell_type": "code",
      "execution_count": 13,
      "metadata": {},
      "outputs": [
        {
          "name": "stdout",
          "output_type": "stream",
          "text": [
            "Base de treino reduzida:\n",
            "      0    1    2    3\n",
            "0   6.0  3.4  4.5  1.6\n",
            "1   4.8  3.1  1.6  0.2\n",
            "2   5.8  2.7  5.1  1.9\n",
            "3   5.6  2.7  4.2  1.3\n",
            "4   5.6  2.9  3.6  1.3\n",
            "5   5.5  2.5  4.0  1.3\n",
            "6   6.1  3.0  4.6  1.4\n",
            "7   7.2  3.2  6.0  1.8\n",
            "8   5.3  3.7  1.5  0.2\n",
            "9   4.3  3.0  1.1  0.1\n",
            "10  6.4  2.7  5.3  1.9\n",
            "11  5.7  3.0  4.2  1.2\n",
            "12  5.4  3.4  1.7  0.2\n",
            "13  5.7  4.4  1.5  0.4\n",
            "14  6.9  3.1  4.9  1.5\n",
            "15  4.6  3.1  1.5  0.2\n",
            "16  5.9  3.0  5.1  1.8\n",
            "17  5.1  2.5  3.0  1.1\n",
            "18  4.6  3.4  1.4  0.3\n",
            "19  6.2  2.2  4.5  1.5\n",
            "20  7.2  3.6  6.1  2.5\n",
            "21  5.7  2.9  4.2  1.3\n",
            "22  4.8  3.0  1.4  0.1\n",
            "23  7.1  3.0  5.9  2.1\n",
            "    0\n",
            "0   1\n",
            "1   0\n",
            "2   2\n",
            "3   1\n",
            "4   1\n",
            "5   1\n",
            "6   1\n",
            "7   2\n",
            "8   0\n",
            "9   0\n",
            "10  2\n",
            "11  1\n",
            "12  0\n",
            "13  0\n",
            "14  1\n",
            "15  0\n",
            "16  2\n",
            "17  1\n",
            "18  0\n",
            "19  1\n",
            "20  2\n",
            "21  1\n",
            "22  0\n",
            "23  2\n"
          ]
        }
      ],
      "source": [
        "X_train, X_test, y_train, y_test = train_test_split(\n",
        "    iris.data, iris.target, test_size=0.4, random_state=0)\n",
        "\n",
        "new_X_train = X_train[:24]\n",
        "new_y_train = y_train[:24]\n",
        "\n",
        "new_X_test = X_test[:16]\n",
        "new_y_test = y_test[:16]\n",
        "\n",
        "df_X_train = pd.DataFrame(data = new_X_train)\n",
        "df_y_train = pd.DataFrame(data = new_y_train)\n",
        "\n",
        "df_X_test = pd.DataFrame(data = new_X_test)\n",
        "df_y_test = pd.DataFrame(data = new_y_test)\n",
        "\n",
        "print('Base de treino reduzida:')\n",
        "print(df_X_train)\n",
        "print(df_y_train)"
      ]
    },
    {
      "cell_type": "code",
      "execution_count": 10,
      "metadata": {},
      "outputs": [
        {
          "name": "stdout",
          "output_type": "stream",
          "text": [
            "Base de teste reduzida:\n",
            "      0    1    2    3\n",
            "0   5.8  2.8  5.1  2.4\n",
            "1   6.0  2.2  4.0  1.0\n",
            "2   5.5  4.2  1.4  0.2\n",
            "3   7.3  2.9  6.3  1.8\n",
            "4   5.0  3.4  1.5  0.2\n",
            "5   6.3  3.3  6.0  2.5\n",
            "6   5.0  3.5  1.3  0.3\n",
            "7   6.7  3.1  4.7  1.5\n",
            "8   6.8  2.8  4.8  1.4\n",
            "9   6.1  2.8  4.0  1.3\n",
            "10  6.1  2.6  5.6  1.4\n",
            "11  6.4  3.2  4.5  1.5\n",
            "12  6.1  2.8  4.7  1.2\n",
            "13  6.5  2.8  4.6  1.5\n",
            "14  6.1  2.9  4.7  1.4\n",
            "15  4.9  3.6  1.4  0.1\n",
            "    0\n",
            "0   2\n",
            "1   1\n",
            "2   0\n",
            "3   2\n",
            "4   0\n",
            "5   2\n",
            "6   0\n",
            "7   1\n",
            "8   1\n",
            "9   1\n",
            "10  2\n",
            "11  1\n",
            "12  1\n",
            "13  1\n",
            "14  1\n",
            "15  0\n"
          ]
        }
      ],
      "source": [
        "print('Base de teste reduzida:')\n",
        "print(df_X_test)\n",
        "print(df_y_test)"
      ]
    },
    {
      "cell_type": "code",
      "execution_count": 19,
      "metadata": {},
      "outputs": [
        {
          "name": "stdout",
          "output_type": "stream",
          "text": [
            "[[6.  3.4 4.5 1.6]\n",
            " [4.8 3.1 1.6 0.2]\n",
            " [5.8 2.7 5.1 1.9]\n",
            " [5.6 2.7 4.2 1.3]\n",
            " [5.6 2.9 3.6 1.3]\n",
            " [5.5 2.5 4.  1.3]\n",
            " [6.1 3.  4.6 1.4]\n",
            " [7.2 3.2 6.  1.8]\n",
            " [5.3 3.7 1.5 0.2]\n",
            " [4.3 3.  1.1 0.1]\n",
            " [6.4 2.7 5.3 1.9]\n",
            " [5.7 3.  4.2 1.2]\n",
            " [5.4 3.4 1.7 0.2]\n",
            " [5.7 4.4 1.5 0.4]\n",
            " [6.9 3.1 4.9 1.5]\n",
            " [4.6 3.1 1.5 0.2]\n",
            " [5.9 3.  5.1 1.8]\n",
            " [5.1 2.5 3.  1.1]\n",
            " [4.6 3.4 1.4 0.3]\n",
            " [6.2 2.2 4.5 1.5]\n",
            " [7.2 3.6 6.1 2.5]\n",
            " [5.7 2.9 4.2 1.3]\n",
            " [4.8 3.  1.4 0.1]\n",
            " [7.1 3.  5.9 2.1]]\n",
            "[[6.  3.4 4.5 1.6]\n",
            " [4.8 3.1 1.6 0.2]\n",
            " [5.8 2.7 5.1 1.9]\n",
            " [5.6 2.7 4.2 1.3]\n",
            " [5.6 2.9 3.6 1.3]\n",
            " [5.5 2.5 4.  1.3]\n",
            " [6.1 3.  4.6 1.4]\n",
            " [7.2 3.2 6.  1.8]\n",
            " [5.3 3.7 4.2 0.2]\n",
            " [4.3 3.  1.1 0.1]\n",
            " [6.4 2.7 5.3 1.9]\n",
            " [5.7 3.  4.2 1.2]\n",
            " [5.4 3.4 1.7 0.2]\n",
            " [5.7 4.4 4.2 0.4]\n",
            " [6.9 3.1 4.9 0.2]\n",
            " [4.6 3.1 4.2 0.2]\n",
            " [5.9 3.  5.1 1.8]\n",
            " [5.1 2.5 3.  1.1]\n",
            " [4.6 3.4 1.4 0.3]\n",
            " [6.2 2.2 4.5 0.2]\n",
            " [7.2 3.6 6.1 2.5]\n",
            " [5.7 2.9 4.2 1.3]\n",
            " [4.8 3.  1.4 0.1]\n",
            " [7.1 3.  5.9 2.1]]\n"
          ]
        }
      ],
      "source": [
        "from sklearn.impute import SimpleImputer\n",
        "\n",
        "imp = SimpleImputer(missing_values=1.5, strategy='most_frequent')\n",
        "imp.fit(new_X_train)  \n",
        "\n",
        "\n",
        "print(new_X_train)\n",
        "print(imp.transform(new_X_train)) "
      ]
    },
    {
      "cell_type": "markdown",
      "metadata": {
        "id": "3srJSzYKQTp_"
      },
      "source": [
        "2. Utilize agora os mesmos valores mais frequentes usados na base de treino na base de teste do\n",
        "exercício 1."
      ]
    },
    {
      "cell_type": "code",
      "execution_count": 18,
      "metadata": {
        "id": "7jwWOpPzlbit"
      },
      "outputs": [
        {
          "name": "stdout",
          "output_type": "stream",
          "text": [
            "[[5.8 2.8 5.1 2.4]\n",
            " [6.  2.2 4.  1. ]\n",
            " [5.5 4.2 1.4 0.2]\n",
            " [7.3 2.9 6.3 1.8]\n",
            " [5.  3.4 1.5 0.2]\n",
            " [6.3 3.3 6.  2.5]\n",
            " [5.  3.5 1.3 0.3]\n",
            " [6.7 3.1 4.7 1.5]\n",
            " [6.8 2.8 4.8 1.4]\n",
            " [6.1 2.8 4.  1.3]\n",
            " [6.1 2.6 5.6 1.4]\n",
            " [6.4 3.2 4.5 1.5]\n",
            " [6.1 2.8 4.7 1.2]\n",
            " [6.5 2.8 4.6 1.5]\n",
            " [6.1 2.9 4.7 1.4]\n",
            " [4.9 3.6 1.4 0.1]]\n",
            "[[5.8 2.8 5.1 2.4]\n",
            " [6.  2.2 4.  1. ]\n",
            " [5.5 4.2 1.4 0.2]\n",
            " [7.3 2.9 6.3 1.8]\n",
            " [5.  3.4 4.2 0.2]\n",
            " [6.3 3.3 6.  2.5]\n",
            " [5.  3.5 1.3 0.3]\n",
            " [6.7 3.1 4.7 0.2]\n",
            " [6.8 2.8 4.8 1.4]\n",
            " [6.1 2.8 4.  1.3]\n",
            " [6.1 2.6 5.6 1.4]\n",
            " [6.4 3.2 4.5 0.2]\n",
            " [6.1 2.8 4.7 1.2]\n",
            " [6.5 2.8 4.6 0.2]\n",
            " [6.1 2.9 4.7 1.4]\n",
            " [4.9 3.6 1.4 0.1]]\n"
          ]
        }
      ],
      "source": [
        "imp = SimpleImputer(missing_values=1.5, strategy='most_frequent')\n",
        "imp.fit(new_X_train)  \n",
        "\n",
        "print(new_X_test)\n",
        "print(imp.transform(new_X_test)) "
      ]
    },
    {
      "cell_type": "markdown",
      "metadata": {
        "id": "906rsXqWQYiY"
      },
      "source": [
        "3. Padronize a base de treino do exercício 1 e utilize os mesmos fatores de normalização para\n",
        "padronizar a base de teste."
      ]
    },
    {
      "cell_type": "code",
      "execution_count": 20,
      "metadata": {
        "id": "_7Y_TxMVQd-H"
      },
      "outputs": [
        {
          "name": "stdout",
          "output_type": "stream",
          "text": [
            "Train\n",
            "[[6.  3.4 4.5 1.6]\n",
            " [4.8 3.1 1.6 0.2]\n",
            " [5.8 2.7 5.1 1.9]\n",
            " [5.6 2.7 4.2 1.3]\n",
            " [5.6 2.9 3.6 1.3]\n",
            " [5.5 2.5 4.  1.3]\n",
            " [6.1 3.  4.6 1.4]\n",
            " [7.2 3.2 6.  1.8]\n",
            " [5.3 3.7 1.5 0.2]\n",
            " [4.3 3.  1.1 0.1]\n",
            " [6.4 2.7 5.3 1.9]\n",
            " [5.7 3.  4.2 1.2]\n",
            " [5.4 3.4 1.7 0.2]\n",
            " [5.7 4.4 1.5 0.4]\n",
            " [6.9 3.1 4.9 1.5]\n",
            " [4.6 3.1 1.5 0.2]\n",
            " [5.9 3.  5.1 1.8]\n",
            " [5.1 2.5 3.  1.1]\n",
            " [4.6 3.4 1.4 0.3]\n",
            " [6.2 2.2 4.5 1.5]\n",
            " [7.2 3.6 6.1 2.5]\n",
            " [5.7 2.9 4.2 1.3]\n",
            " [4.8 3.  1.4 0.1]\n",
            " [7.1 3.  5.9 2.1]]\n",
            "[[0.83333333 0.77272727 0.73770492 0.64      ]\n",
            " [0.66666667 0.70454545 0.26229508 0.08      ]\n",
            " [0.80555556 0.61363636 0.83606557 0.76      ]\n",
            " [0.77777778 0.61363636 0.68852459 0.52      ]\n",
            " [0.77777778 0.65909091 0.59016393 0.52      ]\n",
            " [0.76388889 0.56818182 0.6557377  0.52      ]\n",
            " [0.84722222 0.68181818 0.75409836 0.56      ]\n",
            " [1.         0.72727273 0.98360656 0.72      ]\n",
            " [0.73611111 0.84090909 0.24590164 0.08      ]\n",
            " [0.59722222 0.68181818 0.18032787 0.04      ]\n",
            " [0.88888889 0.61363636 0.86885246 0.76      ]\n",
            " [0.79166667 0.68181818 0.68852459 0.48      ]\n",
            " [0.75       0.77272727 0.27868852 0.08      ]\n",
            " [0.79166667 1.         0.24590164 0.16      ]\n",
            " [0.95833333 0.70454545 0.80327869 0.6       ]\n",
            " [0.63888889 0.70454545 0.24590164 0.08      ]\n",
            " [0.81944444 0.68181818 0.83606557 0.72      ]\n",
            " [0.70833333 0.56818182 0.49180328 0.44      ]\n",
            " [0.63888889 0.77272727 0.2295082  0.12      ]\n",
            " [0.86111111 0.5        0.73770492 0.6       ]\n",
            " [1.         0.81818182 1.         1.        ]\n",
            " [0.79166667 0.65909091 0.68852459 0.52      ]\n",
            " [0.66666667 0.68181818 0.2295082  0.04      ]\n",
            " [0.98611111 0.68181818 0.96721311 0.84      ]]\n",
            "\n",
            "Test\n",
            "[[5.8 2.8 5.1 2.4]\n",
            " [6.  2.2 4.  1. ]\n",
            " [5.5 4.2 1.4 0.2]\n",
            " [7.3 2.9 6.3 1.8]\n",
            " [5.  3.4 1.5 0.2]\n",
            " [6.3 3.3 6.  2.5]\n",
            " [5.  3.5 1.3 0.3]\n",
            " [6.7 3.1 4.7 1.5]\n",
            " [6.8 2.8 4.8 1.4]\n",
            " [6.1 2.8 4.  1.3]\n",
            " [6.1 2.6 5.6 1.4]\n",
            " [6.4 3.2 4.5 1.5]\n",
            " [6.1 2.8 4.7 1.2]\n",
            " [6.5 2.8 4.6 1.5]\n",
            " [6.1 2.9 4.7 1.4]\n",
            " [4.9 3.6 1.4 0.1]]\n",
            "[[0.80555556 0.63636364 0.83606557 0.96      ]\n",
            " [0.83333333 0.5        0.6557377  0.4       ]\n",
            " [0.76388889 0.95454545 0.2295082  0.08      ]\n",
            " [1.01388889 0.65909091 1.03278689 0.72      ]\n",
            " [0.69444444 0.77272727 0.24590164 0.08      ]\n",
            " [0.875      0.75       0.98360656 1.        ]\n",
            " [0.69444444 0.79545455 0.21311475 0.12      ]\n",
            " [0.93055556 0.70454545 0.7704918  0.6       ]\n",
            " [0.94444444 0.63636364 0.78688525 0.56      ]\n",
            " [0.84722222 0.63636364 0.6557377  0.52      ]\n",
            " [0.84722222 0.59090909 0.91803279 0.56      ]\n",
            " [0.88888889 0.72727273 0.73770492 0.6       ]\n",
            " [0.84722222 0.63636364 0.7704918  0.48      ]\n",
            " [0.90277778 0.63636364 0.75409836 0.6       ]\n",
            " [0.84722222 0.65909091 0.7704918  0.56      ]\n",
            " [0.68055556 0.81818182 0.2295082  0.04      ]]\n",
            "\n",
            "Máximos\n",
            "[7.2 4.4 6.1 2.5]\n"
          ]
        }
      ],
      "source": [
        "from sklearn import preprocessing\n",
        "max_abs_scaler = preprocessing.MaxAbsScaler()\n",
        "\n",
        "X_train_maxabs = max_abs_scaler.fit_transform(new_X_train)\n",
        "print ('Train')\n",
        "print(new_X_train)\n",
        "print(X_train_maxabs)\n",
        "\n",
        "X_test_maxabs = max_abs_scaler.transform(new_X_test)\n",
        "print ('\\nTest')\n",
        "print(new_X_test)\n",
        "print(X_test_maxabs)\n",
        "\n",
        "print ('\\nMáximos')\n",
        "print(max_abs_scaler.scale_) "
      ]
    },
    {
      "attachments": {},
      "cell_type": "markdown",
      "metadata": {
        "id": "FG-0ARtLQcVW"
      },
      "source": [
        "4. Discretize a base Z_Train usando a estratégia de igual frequência nos intervalos e utilize os\n",
        "mesmos intervalos para discretizar a base Z_Test. Repita depois usando a estratégia de igual tamanho dos intervalos. Atenção: crie novas bases para não alterar a definição original de Z_Train e Z_Test."
      ]
    },
    {
      "cell_type": "code",
      "execution_count": 22,
      "metadata": {
        "id": "3nU8odYgQeeF"
      },
      "outputs": [
        {
          "name": "stdout",
          "output_type": "stream",
          "text": [
            "[[2. 1. 1. 2.]\n",
            " [0. 1. 0. 0.]\n",
            " [1. 0. 1. 3.]\n",
            " [1. 0. 1. 2.]\n",
            " [1. 0. 0. 2.]\n",
            " [1. 0. 0. 2.]\n",
            " [2. 1. 1. 2.]\n",
            " [2. 1. 1. 3.]\n",
            " [0. 1. 0. 0.]\n",
            " [0. 1. 0. 0.]\n",
            " [2. 0. 1. 3.]\n",
            " [1. 1. 1. 1.]\n",
            " [0. 1. 0. 0.]\n",
            " [1. 1. 0. 1.]\n",
            " [2. 1. 1. 2.]\n",
            " [0. 1. 0. 0.]\n",
            " [1. 1. 1. 3.]\n",
            " [0. 0. 0. 1.]\n",
            " [0. 1. 0. 1.]\n",
            " [2. 0. 1. 2.]\n",
            " [2. 1. 1. 3.]\n",
            " [1. 0. 1. 2.]\n",
            " [0. 1. 0. 0.]\n",
            " [2. 1. 1. 3.]\n",
            " [2. 1. 1. 3.]\n",
            " [2. 1. 1. 3.]\n",
            " [2. 0. 1. 3.]\n",
            " [0. 1. 0. 0.]\n",
            " [0. 1. 0. 0.]\n",
            " [2. 1. 1. 3.]\n",
            " [2. 1. 1. 3.]\n",
            " [0. 0. 0. 1.]\n",
            " [2. 1. 1. 3.]\n",
            " [0. 1. 0. 0.]\n",
            " [1. 0. 1. 3.]\n",
            " [2. 1. 1. 3.]\n",
            " [0. 1. 0. 0.]\n",
            " [0. 1. 0. 0.]\n",
            " [2. 1. 1. 2.]\n",
            " [0. 1. 0. 1.]\n",
            " [0. 1. 0. 0.]\n",
            " [0. 1. 0. 1.]\n",
            " [1. 0. 0. 2.]\n",
            " [2. 1. 1. 3.]\n",
            " [2. 1. 1. 3.]\n",
            " [0. 1. 0. 0.]\n",
            " [0. 1. 0. 0.]\n",
            " [0. 1. 0. 0.]\n",
            " [1. 0. 1. 2.]\n",
            " [2. 1. 1. 2.]\n",
            " [0. 1. 0. 0.]\n",
            " [0. 1. 0. 1.]\n",
            " [2. 0. 1. 2.]\n",
            " [0. 1. 0. 1.]\n",
            " [2. 0. 1. 3.]\n",
            " [0. 0. 0. 1.]\n",
            " [2. 1. 1. 3.]\n",
            " [2. 1. 1. 2.]\n",
            " [0. 1. 0. 0.]\n",
            " [2. 1. 1. 3.]\n",
            " [1. 1. 0. 0.]\n",
            " [2. 0. 1. 3.]\n",
            " [0. 1. 0. 1.]\n",
            " [0. 1. 0. 0.]\n",
            " [2. 0. 1. 3.]\n",
            " [0. 1. 0. 0.]\n",
            " [2. 1. 1. 3.]\n",
            " [1. 0. 0. 2.]\n",
            " [1. 0. 0. 1.]\n",
            " [1. 0. 0. 1.]\n",
            " [2. 1. 1. 3.]\n",
            " [2. 1. 1. 3.]\n",
            " [2. 0. 1. 2.]\n",
            " [2. 1. 1. 3.]\n",
            " [0. 1. 0. 0.]\n",
            " [1. 0. 0. 1.]\n",
            " [2. 1. 1. 3.]\n",
            " [1. 0. 1. 3.]\n",
            " [0. 1. 0. 0.]\n",
            " [2. 0. 1. 2.]\n",
            " [1. 1. 0. 2.]\n",
            " [1. 1. 1. 3.]\n",
            " [2. 0. 1. 2.]\n",
            " [1. 1. 0. 0.]\n",
            " [0. 1. 0. 1.]\n",
            " [0. 1. 0. 0.]\n",
            " [2. 0. 1. 3.]\n",
            " [1. 0. 0. 1.]\n",
            " [2. 1. 1. 3.]\n",
            " [0. 1. 0. 0.]]\n"
          ]
        }
      ],
      "source": [
        "Z_train = new_X_train.copy()\n",
        "Z_teste = new_X_test.copy()\n",
        "\n",
        "est = preprocessing.KBinsDiscretizer(n_bins=[3, 2, 2, 4], \n",
        "                                     encode='ordinal').fit(Z_train)\n",
        "X_bin = est.transform(Z_teste))\n",
        "print(X_bin)\n",
        "\n",
        "\n"
      ]
    },
    {
      "attachments": {},
      "cell_type": "markdown",
      "metadata": {
        "id": "NRx5UNfLQccf"
      },
      "source": [
        "5. Leia a base de dados breast cancer e execute 3 rodadas de validação cruzada aninhada\n",
        "estratificada, porém use padronização em todas as características da base. Use o classificador KNN\n",
        "com k = {1, 3, 5}. Apresente a acurácia obtida em cada fold de teste, assim como a média da acurácia, desvio padrão e intervalo de confiança."
      ]
    },
    {
      "cell_type": "code",
      "execution_count": null,
      "metadata": {
        "id": "FoDuHXnkQe-v"
      },
      "outputs": [],
      "source": []
    },
    {
      "attachments": {},
      "cell_type": "markdown",
      "metadata": {
        "id": "1BlT1f9KQcjl"
      },
      "source": [
        "6. Crie um dataset com 5 exemplos com dados nominais para condições do dia com temperatura\n",
        "(baixa, média e alta), aparência (ensolarado, nublado, chuvoso) e vento (pouco, muito). Transforme os dados de temperatura e vento para o formato ordinal e o de aparência para o formato binário."
      ]
    },
    {
      "cell_type": "code",
      "execution_count": null,
      "metadata": {
        "id": "tsnAvxndQfih"
      },
      "outputs": [],
      "source": []
    },
    {
      "attachments": {},
      "cell_type": "markdown",
      "metadata": {
        "id": "4rb1lFtZQcr3"
      },
      "source": [
        "7. Compare o desempenho (acurácia média, desvio padrão e intervalo de confiança a 95%) do\n",
        "método PCA com três componentes com o método de seleção univariada de características usando\n",
        "quiquadrado e selecionando 3 características no dataset wine. Use o classificador Vizinho Mais Próximo (k = 1) e o método de validação cruzada com 10 folds."
      ]
    },
    {
      "cell_type": "code",
      "execution_count": null,
      "metadata": {
        "id": "-Aq3eagxQg1R"
      },
      "outputs": [],
      "source": []
    },
    {
      "attachments": {},
      "cell_type": "markdown",
      "metadata": {},
      "source": [
        "8. Obtenha o desempenho (acurácia média, desvio padrão e intervalo de confiança a 95%) do\n",
        "método de seleção multivariada de características com seleção sequencial para frente e selecionando\n",
        "3 características no dataset wine. Use o classificador Vizinho Mais Próximo (k = 1) e o método de validação cruzada com 10 folds."
      ]
    },
    {
      "cell_type": "code",
      "execution_count": null,
      "metadata": {},
      "outputs": [],
      "source": []
    }
  ],
  "metadata": {
    "colab": {
      "provenance": []
    },
    "kernelspec": {
      "display_name": "Python 3",
      "name": "python3"
    },
    "language_info": {
      "codemirror_mode": {
        "name": "ipython",
        "version": 3
      },
      "file_extension": ".py",
      "mimetype": "text/x-python",
      "name": "python",
      "nbconvert_exporter": "python",
      "pygments_lexer": "ipython3",
      "version": "3.10.6"
    }
  },
  "nbformat": 4,
  "nbformat_minor": 0
}
