{
  "cells": [
    {
      "cell_type": "markdown",
      "metadata": {
        "id": "XMKOwsrEQCTX"
      },
      "source": [
        "# Laboratório 4 - Pré-processamento de dados\n",
        "Filipe Gomes Arante de Souza"
      ]
    },
    {
      "cell_type": "markdown",
      "metadata": {
        "id": "mgz_wIVWQPLp"
      },
      "source": [
        "1. Carregue a base iris e a separe em treino e teste usando 40% dos exemplos para teste. Reduza a\n",
        "base de treino para ter apenas os 24 exemplos iniciais e a de teste para ter apenas os 16 exemplos\n",
        "iniciais. Considere que o valor 1.5 representa um elemento ausente. Substitua as ocorrências de\n",
        "valores ausentes pelo valor mais frequente nas bases de treino e de teste reduzidas."
      ]
    },
    {
      "cell_type": "code",
      "execution_count": null,
      "metadata": {
        "id": "RHyK06MDj2Hw"
      },
      "outputs": [],
      "source": []
    },
    {
      "cell_type": "markdown",
      "metadata": {
        "id": "3srJSzYKQTp_"
      },
      "source": [
        "2. Utilize agora os mesmos valores mais frequentes usados na base de treino na base de teste do\n",
        "exercício 1."
      ]
    },
    {
      "cell_type": "code",
      "execution_count": null,
      "metadata": {
        "id": "7jwWOpPzlbit"
      },
      "outputs": [],
      "source": []
    },
    {
      "cell_type": "markdown",
      "metadata": {
        "id": "906rsXqWQYiY"
      },
      "source": [
        "3. Padronize a base de treino do exercício 1 e utilize os mesmos fatores de normalização para\n",
        "padronizar a base de teste."
      ]
    },
    {
      "cell_type": "code",
      "execution_count": null,
      "metadata": {
        "id": "_7Y_TxMVQd-H"
      },
      "outputs": [],
      "source": []
    },
    {
      "attachments": {},
      "cell_type": "markdown",
      "metadata": {
        "id": "FG-0ARtLQcVW"
      },
      "source": [
        "4. Discretize a base Z_Train usando a estratégia de igual frequência nos intervalos e utilize os\n",
        "mesmos intervalos para discretizar a base Z_Test. Repita depois usando a estratégia de igual tamanho dos intervalos. Atenção: crie novas bases para não alterar a definição original de Z_Train e Z_Test."
      ]
    },
    {
      "cell_type": "code",
      "execution_count": null,
      "metadata": {
        "id": "3nU8odYgQeeF"
      },
      "outputs": [],
      "source": []
    },
    {
      "attachments": {},
      "cell_type": "markdown",
      "metadata": {
        "id": "NRx5UNfLQccf"
      },
      "source": [
        "5. Leia a base de dados breast cancer e execute 3 rodadas de validação cruzada aninhada\n",
        "estratificada, porém use padronização em todas as características da base. Use o classificador KNN\n",
        "com k = {1, 3, 5}. Apresente a acurácia obtida em cada fold de teste, assim como a média da acurácia, desvio padrão e intervalo de confiança."
      ]
    },
    {
      "cell_type": "code",
      "execution_count": null,
      "metadata": {
        "id": "FoDuHXnkQe-v"
      },
      "outputs": [],
      "source": []
    },
    {
      "attachments": {},
      "cell_type": "markdown",
      "metadata": {
        "id": "1BlT1f9KQcjl"
      },
      "source": [
        "6. Crie um dataset com 5 exemplos com dados nominais para condições do dia com temperatura\n",
        "(baixa, média e alta), aparência (ensolarado, nublado, chuvoso) e vento (pouco, muito). Transforme os dados de temperatura e vento para o formato ordinal e o de aparência para o formato binário."
      ]
    },
    {
      "cell_type": "code",
      "execution_count": null,
      "metadata": {
        "id": "tsnAvxndQfih"
      },
      "outputs": [],
      "source": []
    },
    {
      "attachments": {},
      "cell_type": "markdown",
      "metadata": {
        "id": "4rb1lFtZQcr3"
      },
      "source": [
        "7. Compare o desempenho (acurácia média, desvio padrão e intervalo de confiança a 95%) do\n",
        "método PCA com três componentes com o método de seleção univariada de características usando\n",
        "quiquadrado e selecionando 3 características no dataset wine. Use o classificador Vizinho Mais Próximo (k = 1) e o método de validação cruzada com 10 folds."
      ]
    },
    {
      "cell_type": "code",
      "execution_count": null,
      "metadata": {
        "id": "-Aq3eagxQg1R"
      },
      "outputs": [],
      "source": []
    },
    {
      "attachments": {},
      "cell_type": "markdown",
      "metadata": {},
      "source": [
        "8. Obtenha o desempenho (acurácia média, desvio padrão e intervalo de confiança a 95%) do\n",
        "método de seleção multivariada de características com seleção sequencial para frente e selecionando\n",
        "3 características no dataset wine. Use o classificador Vizinho Mais Próximo (k = 1) e o método de validação cruzada com 10 folds."
      ]
    },
    {
      "cell_type": "code",
      "execution_count": null,
      "metadata": {},
      "outputs": [],
      "source": []
    }
  ],
  "metadata": {
    "colab": {
      "provenance": []
    },
    "kernelspec": {
      "display_name": "Python 3",
      "name": "python3"
    },
    "language_info": {
      "name": "python"
    }
  },
  "nbformat": 4,
  "nbformat_minor": 0
}
