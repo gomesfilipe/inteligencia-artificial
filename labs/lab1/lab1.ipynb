{
 "cells": [
  {
   "cell_type": "markdown",
   "id": "6e78d355",
   "metadata": {},
   "source": [
    "# Laboratório 1 - Resolução do problema da mochila com busca cega\n",
    "\n",
    "Filipe Gomes Arante de Souza"
   ]
  },
  {
   "cell_type": "markdown",
   "id": "e7c48783",
   "metadata": {},
   "source": [
    "#### 1) Definir a função step para mudar um descritor de estado adicionando um novo valor ao estado corrente."
   ]
  },
  {
   "cell_type": "code",
   "execution_count": 44,
   "id": "eb98913b",
   "metadata": {},
   "outputs": [],
   "source": [
    "def step(state = []):\n",
    "    return [state + [0], state + [1]]"
   ]
  },
  {
   "cell_type": "code",
   "execution_count": 45,
   "id": "a877b974",
   "metadata": {},
   "outputs": [
    {
     "name": "stdout",
     "output_type": "stream",
     "text": [
      "[[0], [1]]\n",
      "[[1, 0, 1, 0], [1, 0, 1, 1]]\n"
     ]
    }
   ],
   "source": [
    "print(step ([])) # => [[0],[1]]\n",
    "print(step ([1,0,1])) # => [[1,0,1,0], [1,0,1,1]]"
   ]
  },
  {
   "cell_type": "markdown",
   "id": "e55aa528",
   "metadata": {},
   "source": [
    "#### 2) Definir a função expand que receba uma lista de estados e expanda cada um deles usando a função step definida no item 1."
   ]
  },
  {
   "cell_type": "code",
   "execution_count": null,
   "id": "5463b8f0",
   "metadata": {},
   "outputs": [],
   "source": [
    "def expand(states):\n",
    "    if len(states) == 0:\n",
    "        return step()\n",
    "    \n",
    "    nextState = []\n",
    "    for state in states:\n",
    "        left, right = step(state)\n",
    "        nextState.append(left)\n",
    "        nextState.append(right)\n",
    "    \n",
    "    return nextState"
   ]
  },
  {
   "cell_type": "code",
   "execution_count": 47,
   "id": "92199453",
   "metadata": {},
   "outputs": [
    {
     "name": "stdout",
     "output_type": "stream",
     "text": [
      "[[0], [1]]\n",
      "[[0, 0], [0, 1], [1, 0], [1, 1]]\n",
      "[[1, 0, 1, 0], [1, 0, 1, 1]]\n"
     ]
    }
   ],
   "source": [
    "print(expand ([])) # => [[0],[1]]\n",
    "print(expand ([[0],[1]])) # => [[0, 0], [0, 1], [1, 0], [1, 1]]\n",
    "print(expand ([[1,0,1]])) # => [[1,0,1,0], [1,0,1,1]]"
   ]
  },
  {
   "cell_type": "markdown",
   "id": "8fb20ada",
   "metadata": {},
   "source": [
    "#### 3) Definir a função combine que receba um tamanho de estado e retorne todas as possíveis configurações de estados."
   ]
  },
  {
   "cell_type": "code",
   "execution_count": 48,
   "id": "ed64ce2c",
   "metadata": {},
   "outputs": [],
   "source": [
    "def combine(n):\n",
    "    states = []\n",
    "    for i in range(n):\n",
    "        states = expand(states)\n",
    "    return states"
   ]
  },
  {
   "cell_type": "code",
   "execution_count": 49,
   "id": "77572f95",
   "metadata": {},
   "outputs": [
    {
     "name": "stdout",
     "output_type": "stream",
     "text": [
      "[]\n",
      "[[0], [1]]\n",
      "[[0, 0], [0, 1], [1, 0], [1, 1]]\n",
      "[[0, 0, 0], [0, 0, 1], [0, 1, 0], [0, 1, 1], [1, 0, 0], [1, 0, 1], [1, 1, 0], [1, 1, 1]]\n"
     ]
    }
   ],
   "source": [
    "print(combine (0)) # => []\n",
    "print(combine (1)) # => [[0], [1]]\n",
    "print(combine (2)) # => [[0, 0], [0, 1], [1, 0], [1, 1]]\n",
    "print(combine (3)) # => [[0, 0, 0], [0, 0, 1], [0, 1, 0], [0, 1, 1], [1, 0, 0], [1, 0, 1], [1, 1, 0], [1, 1, 1]]"
   ]
  },
  {
   "cell_type": "markdown",
   "id": "a5ca51a1",
   "metadata": {},
   "source": [
    "#### 4) Definir a função size que recebe um estado e uma lista de tamanhos de itens e determina o tamanho total ocupado pelo estado."
   ]
  },
  {
   "cell_type": "code",
   "execution_count": 50,
   "id": "da61511f",
   "metadata": {},
   "outputs": [],
   "source": [
    "def size(state, bag):\n",
    "    total = 0\n",
    "    for i, j in zip(state, bag):\n",
    "        total += i * j\n",
    "    return total"
   ]
  },
  {
   "cell_type": "code",
   "execution_count": 51,
   "id": "5caab74b",
   "metadata": {},
   "outputs": [
    {
     "name": "stdout",
     "output_type": "stream",
     "text": [
      "0\n",
      "0\n",
      "5\n",
      "12\n"
     ]
    }
   ],
   "source": [
    "print(size ([],[])) # => 0\n",
    "print(size ([0, 0, 0], [1, 7, 4])) # => 0\n",
    "print(size ([1, 0, 1], [1, 7, 4])) # => 5\n",
    "print(size ([1, 1, 1], [1, 7, 4])) # => 12"
   ]
  },
  {
   "cell_type": "markdown",
   "id": "034c5dc4",
   "metadata": {},
   "source": [
    "#### 5) Definir a função size que recebe um estado, uma lista de tamanhos de itens e o tamanho da mochila e determina o estado é válido, isto é, se seu tamanho é menor ou igual ao tamanho da mochila."
   ]
  },
  {
   "cell_type": "code",
   "execution_count": 52,
   "id": "8f336f74",
   "metadata": {},
   "outputs": [],
   "source": [
    "def valid(state, bag, sizeBag):\n",
    "    return True if size(state, bag) <= sizeBag else False"
   ]
  },
  {
   "cell_type": "code",
   "execution_count": 53,
   "id": "2447a567",
   "metadata": {},
   "outputs": [
    {
     "name": "stdout",
     "output_type": "stream",
     "text": [
      "True\n",
      "False\n"
     ]
    }
   ],
   "source": [
    "print(valid ([1, 0, 1], [1, 7, 4], 8)) # => True\n",
    "print(valid ([1, 0, 1], [1, 7, 4], 2)) # => False"
   ]
  },
  {
   "cell_type": "markdown",
   "id": "846772f9",
   "metadata": {},
   "source": [
    "#### 5) Definir a função solution que recebe um estado e uma lista de tamanhos de itens e retorna uma lista de tamanhos de itens que compõem o estado."
   ]
  },
  {
   "cell_type": "code",
   "execution_count": 54,
   "id": "75bcb5fd",
   "metadata": {},
   "outputs": [],
   "source": [
    "def solution(state, bag):\n",
    "    return [y for x, y in zip(state, bag) if x == 1]"
   ]
  },
  {
   "cell_type": "code",
   "execution_count": 55,
   "id": "c6f508c5",
   "metadata": {},
   "outputs": [
    {
     "name": "stdout",
     "output_type": "stream",
     "text": [
      "[]\n",
      "[4]\n",
      "[1, 4]\n"
     ]
    }
   ],
   "source": [
    "print(solution ([0, 0, 0], [1, 7, 4])) # => []\n",
    "print(solution ([0, 0, 1], [1, 7, 4])) # => [4]\n",
    "print(solution ([1, 0, 1], [1, 7, 4])) # => [1,4]"
   ]
  },
  {
   "cell_type": "markdown",
   "id": "4809e7c4",
   "metadata": {},
   "source": [
    "#### 6) Definir a função blindSearchKnapsack01 que recebe o tamanho da mochila e uma lista de tamanhos de itens e retorna uma lista de tuplas contendo todas soluções válidas e seus respectivos tamanhos."
   ]
  },
  {
   "cell_type": "code",
   "execution_count": 56,
   "id": "63e68100",
   "metadata": {},
   "outputs": [],
   "source": [
    "def blindSearchKnapsack01(sizeBag, items):\n",
    "    solutions = []\n",
    "    for state in combine(len(items)):\n",
    "        if valid(state, items, sizeBag):\n",
    "            solutions.append((solution(state, items), sum(solution(state, items))))\n",
    "    return solutions"
   ]
  },
  {
   "cell_type": "code",
   "execution_count": 57,
   "id": "8094b613",
   "metadata": {},
   "outputs": [
    {
     "name": "stdout",
     "output_type": "stream",
     "text": [
      "[([], 0), ([1], 1)]\n",
      "[([], 0), ([8], 8), ([7], 7), ([1], 1), ([1, 7], 8)]\n"
     ]
    }
   ],
   "source": [
    "print(blindSearchKnapsack01 (3, [1, 7, 8])) # => [([], 0), ([1], 1)]\n",
    "print(blindSearchKnapsack01 (8, [1, 7, 8])) # => [([], 0), ([8], 8), ([7], 7), ([1], 1), ([1, 7], 8)]"
   ]
  },
  {
   "cell_type": "markdown",
   "id": "cb7b7f27",
   "metadata": {},
   "source": [
    "#### 7) Definir a função blindSearchKnapsack01Max que recebe o tamanho da mochila e uma lista de tamanhos de itens e retorna uma lista de tuplas contendo todas soluções que maximizam o tamanho ocupado das mochilas e seus respectivos tamanhos."
   ]
  },
  {
   "cell_type": "code",
   "execution_count": 58,
   "id": "93e39a99",
   "metadata": {},
   "outputs": [],
   "source": [
    "def blindSearchKnapsack01Max(sizeBag, items):\n",
    "    solutions = blindSearchKnapsack01(sizeBag, items)\n",
    "    biggest = -1\n",
    "    maxSolutions = []\n",
    "    for solution, space in solutions:\n",
    "        if space > biggest:\n",
    "            biggest = space\n",
    "            maxSolutions = [(solution, space)]\n",
    "        elif space == biggest:\n",
    "            maxSolutions.append((solution, space))\n",
    "    \n",
    "    return maxSolutions        "
   ]
  },
  {
   "cell_type": "code",
   "execution_count": 59,
   "id": "2ac154cd",
   "metadata": {},
   "outputs": [
    {
     "name": "stdout",
     "output_type": "stream",
     "text": [
      "[([1, 7], 8)]\n",
      "[([8], 8), ([1, 7], 8)]\n"
     ]
    }
   ],
   "source": [
    "print(blindSearchKnapsack01Max (8, [1, 7, 4])) # => [([1, 7], 8)]\n",
    "print(blindSearchKnapsack01Max (8, [1, 7, 8])) # => [([8], 8), ([1, 7], 8)]"
   ]
  },
  {
   "cell_type": "code",
   "execution_count": null,
   "id": "b459dd50",
   "metadata": {},
   "outputs": [],
   "source": []
  }
 ],
 "metadata": {
  "kernelspec": {
   "display_name": "Python 3 (ipykernel)",
   "language": "python",
   "name": "python3"
  },
  "language_info": {
   "codemirror_mode": {
    "name": "ipython",
    "version": 3
   },
   "file_extension": ".py",
   "mimetype": "text/x-python",
   "name": "python",
   "nbconvert_exporter": "python",
   "pygments_lexer": "ipython3",
   "version": "3.10.6"
  }
 },
 "nbformat": 4,
 "nbformat_minor": 5
}
