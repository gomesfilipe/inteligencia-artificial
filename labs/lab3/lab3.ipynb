{
  "cells": [
    {
      "cell_type": "markdown",
      "metadata": {
        "id": "nCtFTFS6Px_e"
      },
      "source": [
        "# Laboratório 3 - Aprendizado de máquina\n",
        "Filipe Gomes Arante de Souza"
      ]
    },
    {
      "cell_type": "markdown",
      "metadata": {
        "id": "lJB_1G0wQDDO"
      },
      "source": [
        "Roteiro Aula 3 Lab\n",
        "1. Carregue o dataset breast cancer disponível no sklearn e obtenha a distribuição de classes deste\n",
        "dataset."
      ]
    },
    {
      "cell_type": "code",
      "execution_count": 1,
      "metadata": {
        "colab": {
          "base_uri": "https://localhost:8080/"
        },
        "id": "y-urA2cSPqdu",
        "outputId": "618c49e5-85c7-4d00-d65b-81b349bbfe67"
      },
      "outputs": [
        {
          "name": "stdout",
          "output_type": "stream",
          "text": [
            "[(0, 0.37258347978910367), (1, 0.6274165202108963)]\n"
          ]
        }
      ],
      "source": [
        "import pandas as pd\n",
        "from sklearn.datasets import load_breast_cancer\n",
        "import numpy as np\n",
        "\n",
        "def classDistribution (classData):\n",
        "    tam = len(classData)\n",
        "    labels = np.unique(classData)\n",
        "    \n",
        "    classDistr = []\n",
        "    for class_value in labels:   \n",
        "        cvc = len([1 for i in classData if i == class_value])\n",
        "        classDistr += [(class_value, cvc/tam)]\n",
        "\n",
        "    return classDistr\n",
        "\n",
        "breast = load_breast_cancer()\n",
        "print(classDistribution(breast.target))\n"
      ]
    },
    {
      "cell_type": "markdown",
      "metadata": {
        "id": "SB9w0BrwQG0H"
      },
      "source": [
        "2. Use o classificador Vizinho Mais Próximo e uma divisão percentual com 30% dos exemplos do\n",
        "dataset breast cancer usados para teste para obter o valor da acurácia e f1 deste classificador neste\n",
        "dataset."
      ]
    },
    {
      "cell_type": "code",
      "execution_count": 2,
      "metadata": {
        "colab": {
          "base_uri": "https://localhost:8080/"
        },
        "id": "GDMShNAYQJf_",
        "outputId": "071f67f2-1f3b-460b-d426-2245a3d7c2b1"
      },
      "outputs": [
        {
          "name": "stdout",
          "output_type": "stream",
          "text": [
            "accuracy =  0.9181286549707602\n"
          ]
        }
      ],
      "source": [
        "from sklearn.neighbors import KNeighborsClassifier\n",
        "from sklearn.model_selection import train_test_split\n",
        "\n",
        "breast_X = breast.data # Matriz de dados\n",
        "breast_y = breast.target # Lista de rótulos\n",
        "\n",
        "X_train, X_test, y_train, y_test = train_test_split(breast_X, breast_y, test_size=0.3, random_state=0)\n",
        "\n",
        "oneNN = KNeighborsClassifier(n_neighbors=1)\n",
        "oneNN.fit(X_train, y_train)\n",
        "\n",
        "y_pred = oneNN.predict(X_test)\n",
        "\n",
        "print ('accuracy = ', oneNN.score(X_test, y_test))\n"
      ]
    },
    {
      "cell_type": "markdown",
      "metadata": {
        "id": "DHRl6PbyQKCP"
      },
      "source": [
        "3. Use o classificador Vizinho Mais Próximo e uma validação cruzada com 10 folds no\n",
        "dataset breast cancer para obter a matriz de confusão, a acurácia, o desvio padrão, o intervalo de\n",
        "confiança a 95%, a f1 macro, a precision micro e o recall micro deste classificador neste dataset."
      ]
    },
    {
      "cell_type": "code",
      "execution_count": 3,
      "metadata": {
        "colab": {
          "base_uri": "https://localhost:8080/"
        },
        "id": "Rxx421qqQQ8H",
        "outputId": "4d56ec4b-5897-46ce-d87d-65587e79dd32"
      },
      "outputs": [
        {
          "name": "stdout",
          "output_type": "stream",
          "text": [
            "Mean Accuracy: 0.92 Standard Deviation: 0.03\n",
            "Mean Macro Precision: 0.92 Standard Deviation: 0.03\n",
            "Mean Macro Recall: 0.90 Standard Deviation: 0.03\n",
            "Mean Macro F1: 0.91 Standard Deviation: 0.03\n",
            "confidence interval: (0.8970480700035256, 0.9343429074400834)\n"
          ]
        }
      ],
      "source": [
        "from sklearn.model_selection import cross_validate\n",
        "from scipy import stats\n",
        "from sklearn.metrics import confusion_matrix, ConfusionMatrixDisplay\n",
        "import matplotlib.pyplot as plt\n",
        "\n",
        "oneNNCross = KNeighborsClassifier(n_neighbors=1)\n",
        "scorings = ['accuracy', 'precision_macro', 'recall_macro', 'f1_macro']\n",
        "scores = cross_validate(oneNNCross, breast_X, breast_y, \n",
        "                        scoring=scorings, cv=10)\n",
        "\n",
        "scores_acc = scores['test_accuracy']\n",
        "print(\"Mean Accuracy: %0.2f Standard Deviation: %0.2f\" % \n",
        "      (scores_acc.mean(),scores_acc.std()))\n",
        "\n",
        "scores_prec = scores['test_precision_macro']\n",
        "print(\"Mean Macro Precision: %0.2f Standard Deviation: %0.2f\" % \n",
        "      (scores_prec.mean(),scores_prec.std()))\n",
        "\n",
        "scores_rec = scores['test_recall_macro']\n",
        "print(\"Mean Macro Recall: %0.2f Standard Deviation: %0.2f\" % \n",
        "      (scores_rec.mean(),scores_rec.std()))\n",
        "\n",
        "scores_f1 = scores['test_f1_macro']\n",
        "print(\"Mean Macro F1: %0.2f Standard Deviation: %0.2f\" % \n",
        "      (scores_f1.mean(),scores_f1.std()))\n",
        "\n",
        "inf, sup = stats.norm.interval(0.95, loc=scores_acc.mean(), \n",
        "                               scale=scores_acc.std()/np.sqrt(len(scores_acc)))\n",
        "\n",
        "print('confidence interval: ({}, {})'.format(inf, sup))\n"
      ]
    },
    {
      "cell_type": "markdown",
      "metadata": {
        "id": "E2z5BZtnQRpn"
      },
      "source": [
        "4. Use o classificador K Vizinhos Mais Próximos com o método indicado (use 10 partições) no\n",
        "dataset breast cancer para realizar a busca pelo melhor valor de K. Apresente a melhor acurácia\n",
        "obtida, o desvio padrão,o intervalo de confiança a 95% e o valor de K correspondente."
      ]
    },
    {
      "cell_type": "code",
      "execution_count": 4,
      "metadata": {
        "colab": {
          "base_uri": "https://localhost:8080/"
        },
        "id": "Cpqgp34XQScx",
        "outputId": "e3f39e02-c28f-4591-d24f-e1a06a49ae4a"
      },
      "outputs": [
        {
          "name": "stdout",
          "output_type": "stream",
          "text": [
            "Best Mean Accuracy: 0.93\n",
            "Best Parameter Values:  {'n_neighbors': 5}\n",
            "Grid Search Result Infos:  dict_keys(['mean_fit_time', 'std_fit_time', 'mean_score_time', 'std_score_time', 'param_n_neighbors', 'params', 'split0_test_score', 'split1_test_score', 'split2_test_score', 'split3_test_score', 'split4_test_score', 'split5_test_score', 'split6_test_score', 'split7_test_score', 'split8_test_score', 'split9_test_score', 'mean_test_score', 'std_test_score', 'rank_test_score'])\n",
            "parcial 1: [0.92982456 0.84210526 0.92982456 0.92982456 0.9122807  0.89473684\n",
            " 0.92982456 0.94736842 0.89473684 0.94642857]\n",
            "mean: 0.9156954887218045\n",
            "confidence interval: (0.8970480700035256, 0.9343429074400834)\n",
            "\n",
            "parcial 2: [0.9122807  0.9122807  0.89473684 0.92982456 0.92982456 0.92982456\n",
            " 0.9122807  0.89473684 0.87719298 0.92857143]\n",
            "mean: 0.9121553884711779\n",
            "confidence interval: (0.9013572251287317, 0.9229535518136242)\n",
            "\n",
            "parcial 3: [0.9122807  0.85964912 0.89473684 0.94736842 0.94736842 0.94736842\n",
            " 0.96491228 0.94736842 0.9122807  0.92857143]\n",
            "mean: 0.9261904761904761\n",
            "confidence interval: (0.9074904117134904, 0.9448905406674618)\n",
            "\n",
            "parcial 4: [0.9122807  0.87719298 0.89473684 0.94736842 0.94736842 0.94736842\n",
            " 0.96491228 0.9122807  0.87719298 0.92857143]\n",
            "mean: 0.9209273182957393\n",
            "confidence interval: (0.9025921109856775, 0.939262525605801)\n",
            "\n",
            "parcial 5: [0.9122807  0.87719298 0.89473684 0.96491228 0.94736842 0.92982456\n",
            " 0.96491228 0.92982456 0.9122807  0.96428571]\n",
            "mean: 0.9297619047619046\n",
            "confidence interval: (0.9116129980122524, 0.9479108115115568)\n",
            "\n"
          ]
        }
      ],
      "source": [
        "from sklearn.model_selection import GridSearchCV\n",
        "\n",
        "parameters = {'n_neighbors': list(range(1,6))}\n",
        "\n",
        "knn = KNeighborsClassifier()\n",
        "\n",
        "gs = GridSearchCV(\n",
        "    knn,\n",
        "    parameters,\n",
        "    cv = 10,\n",
        ")\n",
        "\n",
        "gs_results = gs.fit(breast_X, breast_y)\n",
        "\n",
        "print(\"Best Mean Accuracy: %0.2f\" % gs.best_score_)\n",
        "print(\"Best Parameter Values: \", gs.best_params_)\n",
        "print(\"Grid Search Result Infos: \", gs.cv_results_.keys())\n",
        "\n",
        "for i in range(5):\n",
        "  parciais = np.array ([gs.cv_results_['split0_test_score'][i], \n",
        "                        gs.cv_results_['split1_test_score'][i], \n",
        "                        gs.cv_results_['split2_test_score'][i], \n",
        "                        gs.cv_results_['split3_test_score'][i], \n",
        "                        gs.cv_results_['split4_test_score'][i], \n",
        "                        gs.cv_results_['split5_test_score'][i], \n",
        "                        gs.cv_results_['split6_test_score'][i], \n",
        "                        gs.cv_results_['split7_test_score'][i], \n",
        "                        gs.cv_results_['split8_test_score'][i], \n",
        "                        gs.cv_results_['split9_test_score'][i]])\n",
        "  inf, sup = stats.norm.interval(0.95, loc=parciais.mean(), \n",
        "                               scale=parciais.std()/np.sqrt(len(parciais)))\n",
        "  \n",
        "  print('parcial {}: {}'.format(i + 1, parciais))\n",
        "  print('mean: {}'.format(parciais.mean()))\n",
        "  print('confidence interval: ({}, {})'.format(inf, sup))\n",
        "  print()"
      ]
    },
    {
      "cell_type": "markdown",
      "metadata": {
        "id": "3lb_M9OrQSwP"
      },
      "source": [
        "5. Use o classificador K Vizinhos Mais Próximos com o método indicado no dataset breast cancer\n",
        "para realizar a busca pelo melhor valor de K sem possibilidade de superajuste. Apresente a melhor\n",
        "acurácia obtida, o desvio padrão e o intervalo de confiança a 95%."
      ]
    },
    {
      "cell_type": "code",
      "execution_count": 5,
      "metadata": {
        "colab": {
          "base_uri": "https://localhost:8080/"
        },
        "id": "Jcg3O6PlQS35",
        "outputId": "729f677e-c83e-444f-f9b9-651e6455da37"
      },
      "outputs": [
        {
          "name": "stdout",
          "output_type": "stream",
          "text": [
            "[0.98245614 0.92982456 0.92982456 0.98245614 0.94736842 0.92982456\n",
            " 0.92982456 0.9122807  0.85964912 0.96428571 0.89473684 0.92982456\n",
            " 0.89473684 0.92982456 0.89473684 0.92982456 0.96491228 0.92982456\n",
            " 0.98245614 0.91071429 0.92982456 0.89473684 0.94736842 0.94736842\n",
            " 0.98245614 0.92982456 0.96491228 0.87719298 0.89473684 0.94642857]\n",
            "\n",
            "Mean Accuracy: 0.93 Standard Deviation: 0.03\n",
            "Accuracy Confidence Interval (95%): (0.92, 0.94)\n",
            "\n"
          ]
        }
      ],
      "source": [
        "from sklearn.model_selection import RepeatedStratifiedKFold\n",
        "from sklearn.model_selection import cross_val_score\n",
        "\n",
        "grade = {'n_neighbors': [1, 3, 5]}\n",
        "\n",
        "gs = GridSearchCV(estimator=knn, param_grid = parameters, \n",
        "                  scoring='accuracy', cv = 10)\n",
        "\n",
        "rkf = RepeatedStratifiedKFold(n_splits=10, n_repeats=3)\n",
        "scores = cross_val_score(gs, breast_X, breast_y, scoring='accuracy', \n",
        "                         cv = rkf)\n",
        "\n",
        "print (scores)\n",
        "\n",
        "mean = scores.mean()\n",
        "std = scores.std()\n",
        "inf, sup = stats.norm.interval(0.95, loc=mean, \n",
        "                               scale=std/np.sqrt(len(scores)))\n",
        "\n",
        "print(\"\\nMean Accuracy: %0.2f Standard Deviation: %0.2f\" % (mean, std))\n",
        "print (\"Accuracy Confidence Interval (95%%): (%0.2f, %0.2f)\\n\" % \n",
        "       (inf, sup)) "
      ]
    },
    {
      "cell_type": "markdown",
      "metadata": {
        "id": "e9EfM1mlQTFf"
      },
      "source": [
        "6. Repita o procedimento proposto no exercício 5 somente trocando o classificador para uma\n",
        "Árvore de Decisão. Compara o desempenho obtido pelo K Vizinhos Mais Próximos com a Árvore\n",
        "de Decisão utilizando o teste T e o de Wilcoxon."
      ]
    },
    {
      "cell_type": "code",
      "execution_count": 7,
      "metadata": {
        "id": "SodXwlvyQTK_"
      },
      "outputs": [
        {
          "name": "stdout",
          "output_type": "stream",
          "text": [
            "[0.89473684 0.94736842 0.9122807  0.92982456 0.94736842 0.87719298\n",
            " 0.9122807  0.9122807  0.89473684 0.92857143 0.9122807  0.85964912\n",
            " 0.92982456 0.87719298 0.8245614  0.9122807  0.94736842 0.92982456\n",
            " 0.94736842 0.98214286 0.96491228 0.89473684 0.89473684 0.94736842\n",
            " 0.9122807  0.96491228 0.92982456 0.85964912 0.92982456 0.94642857]\n",
            "\n",
            "Mean Accuracy: 0.92 Standard Deviation: 0.03\n",
            "Accuracy Confidence Interval (95%): (0.92, 0.94)\n",
            "\n"
          ]
        }
      ],
      "source": [
        "from sklearn.tree import DecisionTreeClassifier\n",
        "\n",
        "dT = DecisionTreeClassifier()\n",
        "\n",
        "dTGrade = {'max_depth': [2, 3], 'min_samples_split': [2, 4]}\n",
        "\n",
        "dTGS = GridSearchCV(estimator=dT, param_grid = dTGrade, \n",
        "                  scoring='accuracy', cv = 10)\n",
        "\n",
        "dTScores = cross_val_score(dTGS, breast_X, breast_y, scoring='accuracy', \n",
        "                           cv = rkf)\n",
        "\n",
        "print (dTScores)\n",
        "\n",
        "dTMean = dTScores.mean()\n",
        "dTStd = dTScores.std()\n",
        "dTInf, dTSup = stats.norm.interval(0.95, loc=mean, \n",
        "                                   scale=std/np.sqrt(len(scores)))\n",
        "\n",
        "print(\"\\nMean Accuracy: %0.2f Standard Deviation: %0.2f\" % (dTMean, \n",
        "                                                            dTStd))\n",
        "print (\"Accuracy Confidence Interval (95%%): (%0.2f, %0.2f)\\n\" % \n",
        "       (dTInf, dTSup))\n"
      ]
    },
    {
      "cell_type": "code",
      "execution_count": 8,
      "metadata": {},
      "outputs": [
        {
          "name": "stdout",
          "output_type": "stream",
          "text": [
            "Paired T Test\n",
            "t: 1.95 p-value: 0.06\n",
            "\n",
            "Wilcoxon Test\n",
            "w: 82.00 p-value: 0.05\n",
            "\n"
          ]
        },
        {
          "name": "stderr",
          "output_type": "stream",
          "text": [
            "/home/filipe/.local/lib/python3.10/site-packages/scipy/stats/_morestats.py:3414: UserWarning: Exact p-value calculation does not work if there are zeros. Switching to normal approximation.\n",
            "  warnings.warn(\"Exact p-value calculation does not work if there are \"\n"
          ]
        }
      ],
      "source": [
        "from scipy.stats import ttest_rel, wilcoxon\n",
        "\n",
        "print('Paired T Test')\n",
        "s,p = ttest_rel(scores,dTScores)\n",
        "print(\"t: %0.2f p-value: %0.2f\\n\" % (s,p))\n",
        "\n",
        "\n",
        "print ('Wilcoxon Test')\n",
        "s,p = wilcoxon (scores,dTScores)\n",
        "print(\"w: %0.2f p-value: %0.2f\\n\" % (s,p))"
      ]
    }
  ],
  "metadata": {
    "colab": {
      "provenance": []
    },
    "kernelspec": {
      "display_name": "Python 3.10.6 64-bit",
      "language": "python",
      "name": "python3"
    },
    "language_info": {
      "codemirror_mode": {
        "name": "ipython",
        "version": 3
      },
      "file_extension": ".py",
      "mimetype": "text/x-python",
      "name": "python",
      "nbconvert_exporter": "python",
      "pygments_lexer": "ipython3",
      "version": "3.10.6"
    },
    "vscode": {
      "interpreter": {
        "hash": "916dbcbb3f70747c44a77c7bcd40155683ae19c65e1c03b4aa3499c5328201f1"
      }
    }
  },
  "nbformat": 4,
  "nbformat_minor": 0
}
