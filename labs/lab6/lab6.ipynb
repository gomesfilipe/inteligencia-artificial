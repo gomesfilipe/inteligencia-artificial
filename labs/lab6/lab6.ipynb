{
 "cells": [
  {
   "attachments": {},
   "cell_type": "markdown",
   "metadata": {},
   "source": [
    "# Laboratório 6 - Classificação\n",
    "Filipe Gomes Arante de Souza"
   ]
  },
  {
   "attachments": {},
   "cell_type": "markdown",
   "metadata": {},
   "source": [
    "1. Compare a acurácia da árvore de decisão que utiliza ganho de informação com aquela que usa índice gini para seleção da característica dos nós de decisão da árvore no dataset wine. Faça a comparação usando 6 rodadas de validação cruzada estratificada com 5 folds. A menos do critério de seleção de caraterísticas, use os valores default para os demais hiperparâmetros da árvore. Indique se existe diferença significativa entre os resultados das árvores usando o teste t de Student."
   ]
  },
  {
   "cell_type": "code",
   "execution_count": 12,
   "metadata": {},
   "outputs": [],
   "source": [
    "from sklearn.datasets import load_wine\n",
    "\n",
    "# Carregando dataset\n",
    "wine = load_wine()\n",
    "\n",
    "wine_X = wine.data\n",
    "wine_y = wine.target\n"
   ]
  },
  {
   "cell_type": "code",
   "execution_count": 13,
   "metadata": {},
   "outputs": [
    {
     "name": "stdout",
     "output_type": "stream",
     "text": [
      "[0.94444444 0.91666667 0.97222222 0.97142857 0.94285714 0.80555556\n",
      " 0.91666667 0.94444444 0.91428571 0.94285714 0.91666667 0.88888889\n",
      " 0.91666667 0.88571429 0.91428571 0.94444444 0.91666667 0.83333333\n",
      " 0.97142857 0.88571429 0.88888889 0.91666667 0.94444444 0.94285714\n",
      " 0.88571429 0.97222222 0.97222222 0.86111111 0.91428571 1.        ]\n",
      "\n",
      "Mean Accuracy: 0.92 Standard Deviation: 0.04\n",
      "Accuracy Confidence Interval (95%): (0.91, 0.94)\n",
      "\n"
     ]
    }
   ],
   "source": [
    "from sklearn.tree import DecisionTreeClassifier\n",
    "from sklearn.model_selection import RepeatedStratifiedKFold\n",
    "from sklearn.model_selection import cross_val_score\n",
    "from scipy import stats\n",
    "import numpy as np\n",
    "\n",
    "dtEntropy = DecisionTreeClassifier(criterion = 'entropy', random_state = 0)\n",
    "\n",
    "rkf = RepeatedStratifiedKFold(n_splits = 5, n_repeats = 6, random_state = 0)\n",
    "scoresEntropy = cross_val_score(dtEntropy, wine_X, wine_y, scoring = 'accuracy', \n",
    "                         cv = rkf)\n",
    "\n",
    "print (scoresEntropy)\n",
    "\n",
    "mean = scoresEntropy.mean()\n",
    "std = scoresEntropy.std()\n",
    "inf, sup = stats.norm.interval(0.95, loc=mean, \n",
    "                               scale=std/np.sqrt(len(scores)))\n",
    "\n",
    "print(\"\\nMean Accuracy: %0.2f Standard Deviation: %0.2f\" % (mean, std))\n",
    "print (\"Accuracy Confidence Interval (95%%): (%0.2f, %0.2f)\\n\" % \n",
    "       (inf, sup)) "
   ]
  },
  {
   "cell_type": "code",
   "execution_count": 14,
   "metadata": {},
   "outputs": [
    {
     "name": "stdout",
     "output_type": "stream",
     "text": [
      "[0.91666667 0.83333333 0.97222222 0.97142857 0.94285714 0.88888889\n",
      " 0.86111111 0.94444444 0.94285714 0.91428571 0.94444444 0.88888889\n",
      " 0.94444444 0.88571429 0.85714286 0.83333333 0.88888889 0.83333333\n",
      " 0.94285714 0.97142857 0.88888889 0.94444444 0.86111111 0.82857143\n",
      " 0.88571429 0.88888889 0.91666667 0.86111111 0.91428571 0.94285714]\n",
      "\n",
      "Mean Accuracy: 0.90 Standard Deviation: 0.04\n",
      "Accuracy Confidence Interval (95%): (0.89, 0.92)\n",
      "\n"
     ]
    }
   ],
   "source": [
    "dtGini = DecisionTreeClassifier(criterion = 'gini', random_state = 0)\n",
    "\n",
    "rkf = RepeatedStratifiedKFold(n_splits = 5, n_repeats = 6, random_state = 0)\n",
    "scoresGini = cross_val_score(dtGini, wine_X, wine_y, scoring = 'accuracy', \n",
    "                         cv = rkf)\n",
    "\n",
    "print (scoresGini)\n",
    "\n",
    "mean = scoresGini.mean()\n",
    "std = scoresGini.std()\n",
    "inf, sup = stats.norm.interval(0.95, loc=mean, \n",
    "                               scale=std/np.sqrt(len(scores)))\n",
    "\n",
    "print(\"\\nMean Accuracy: %0.2f Standard Deviation: %0.2f\" % (mean, std))\n",
    "print (\"Accuracy Confidence Interval (95%%): (%0.2f, %0.2f)\\n\" % \n",
    "       (inf, sup)) "
   ]
  },
  {
   "cell_type": "code",
   "execution_count": 15,
   "metadata": {},
   "outputs": [
    {
     "name": "stdout",
     "output_type": "stream",
     "text": [
      "Paired T Test\n",
      "t: 1.98 p-value: 0.06\n",
      "\n"
     ]
    }
   ],
   "source": [
    "from scipy.stats import ttest_rel\n",
    "\n",
    "print('Paired T Test')\n",
    "s, p = ttest_rel(scoresEntropy, scoresGini)\n",
    "print(\"t: %0.2f p-value: %0.2f\\n\" % (s,p))"
   ]
  },
  {
   "attachments": {},
   "cell_type": "markdown",
   "metadata": {},
   "source": [
    "2. Determine qual o valor do hiperparâmetro ccp_alpha (fator de poda) em uma busca em grade\n",
    "com validação cruzada em 10 folds no dataset wine que obtém a melhor acurácia média. Varie o\n",
    "hiperparâmetro de 0.1 em 0.1 no intervalo entre 0.1 e 0.7."
   ]
  },
  {
   "cell_type": "code",
   "execution_count": 16,
   "metadata": {},
   "outputs": [
    {
     "name": "stdout",
     "output_type": "stream",
     "text": [
      "Best Mean Accuracy: 0.80\n",
      "Best Parameter Values:  {'ccp_alpha': 0.1}\n",
      "Grid Search Result Infos:  dict_keys(['mean_fit_time', 'std_fit_time', 'mean_score_time', 'std_score_time', 'param_ccp_alpha', 'params', 'split0_test_score', 'split1_test_score', 'split2_test_score', 'split3_test_score', 'split4_test_score', 'split5_test_score', 'split6_test_score', 'split7_test_score', 'split8_test_score', 'split9_test_score', 'mean_test_score', 'std_test_score', 'rank_test_score'])\n"
     ]
    }
   ],
   "source": [
    "from sklearn.model_selection import GridSearchCV\n",
    "\n",
    "parameters = {'ccp_alpha': [x / 10 for x in range(1, 8)]}\n",
    "\n",
    "dt = DecisionTreeClassifier(random_state = 0)\n",
    "\n",
    "gs = GridSearchCV(dt, parameters, cv = 10)\n",
    "\n",
    "gs_results = gs.fit(wine_X, wine_y)\n",
    "\n",
    "print(\"Best Mean Accuracy: %0.2f\" % gs.best_score_)\n",
    "print(\"Best Parameter Values: \", gs.best_params_)\n",
    "print(\"Grid Search Result Infos: \", gs.cv_results_.keys())\n"
   ]
  },
  {
   "attachments": {},
   "cell_type": "markdown",
   "metadata": {},
   "source": [
    "3. Compare o desempenho em f1 macro do classificador Naive Bayes com os do classificadores\n",
    "Árvore de Decisão (com valores default de hiperparâmetros) e com o classificador aleatório\n",
    "estratificado em uma validação cruzada com 10 folds no dataset breast."
   ]
  },
  {
   "cell_type": "code",
   "execution_count": 31,
   "metadata": {},
   "outputs": [],
   "source": [
    "from sklearn.datasets import load_breast_cancer\n",
    "\n",
    "breast = load_breast_cancer()\n",
    "breast_X = breast.data\n",
    "breast_y = breast.target\n"
   ]
  },
  {
   "cell_type": "code",
   "execution_count": 32,
   "metadata": {},
   "outputs": [
    {
     "name": "stdout",
     "output_type": "stream",
     "text": [
      "\n",
      "Mean F1 Macro: 0.93 Standard Deviation: 0.03\n",
      "Accuracy Confidence Interval (95%): (0.91, 0.95)\n",
      "\n"
     ]
    }
   ],
   "source": [
    "from sklearn.naive_bayes import GaussianNB\n",
    "from sklearn.dummy import DummyClassifier\n",
    "from sklearn.model_selection import cross_validate\n",
    "\n",
    "naiveBayes = GaussianNB()\n",
    "\n",
    "scorings = ['f1_macro']\n",
    "scores = cross_validate(naiveBayes, breast_X, breast_y, scoring = scorings, cv = 10)\n",
    "nb_f1 = scores['test_f1_macro']\n",
    "\n",
    "mean = nb_f1.mean()\n",
    "std = nb_f1.std()\n",
    "inf, sup = stats.norm.interval(0.95, loc=mean, \n",
    "                               scale=std/np.sqrt(len(nb_f1)))\n",
    "\n",
    "print(\"\\nMean F1 Macro: %0.2f Standard Deviation: %0.2f\" % (mean, std))\n",
    "print (\"Accuracy Confidence Interval (95%%): (%0.2f, %0.2f)\\n\" % (inf, sup)) \n"
   ]
  },
  {
   "cell_type": "code",
   "execution_count": 33,
   "metadata": {},
   "outputs": [
    {
     "name": "stdout",
     "output_type": "stream",
     "text": [
      "\n",
      "Mean F1 Macro: 0.91 Standard Deviation: 0.04\n",
      "Accuracy Confidence Interval (95%): (0.89, 0.93)\n",
      "\n"
     ]
    }
   ],
   "source": [
    "dt = DecisionTreeClassifier(random_state = 0)\n",
    "\n",
    "scorings = ['f1_macro']\n",
    "scores = cross_validate(dt, breast_X, breast_y, scoring = scorings, cv = 10)\n",
    "dt = scores['test_f1_macro']\n",
    "\n",
    "mean = dt.mean()\n",
    "std = dt.std()\n",
    "inf, sup = stats.norm.interval(0.95, loc=mean, scale=std/np.sqrt(len(dt)))\n",
    "\n",
    "print(\"\\nMean F1 Macro: %0.2f Standard Deviation: %0.2f\" % (mean, std))\n",
    "print (\"Accuracy Confidence Interval (95%%): (%0.2f, %0.2f)\\n\" % (inf, sup)) \n",
    "\n"
   ]
  },
  {
   "cell_type": "code",
   "execution_count": 34,
   "metadata": {},
   "outputs": [
    {
     "name": "stdout",
     "output_type": "stream",
     "text": [
      "\n",
      "Mean F1 Macro: 0.56 Standard Deviation: 0.03\n",
      "Accuracy Confidence Interval (95%): (0.55, 0.58)\n",
      "\n"
     ]
    }
   ],
   "source": [
    "randomStratified = DummyClassifier(strategy = 'stratified', random_state = 0)\n",
    "\n",
    "scorings = ['f1_macro']\n",
    "scores = cross_validate(randomStratified, breast_X, breast_y, scoring = scorings, cv = 10)\n",
    "randomStratified = scores['test_f1_macro']\n",
    "\n",
    "mean = randomStratified.mean()\n",
    "std = randomStratified.std()\n",
    "inf, sup = stats.norm.interval(0.95, loc=mean, scale=std/np.sqrt(len(randomStratified)))\n",
    "\n",
    "print(\"\\nMean F1 Macro: %0.2f Standard Deviation: %0.2f\" % (mean, std))\n",
    "print (\"Accuracy Confidence Interval (95%%): (%0.2f, %0.2f)\\n\" % (inf, sup)) "
   ]
  },
  {
   "attachments": {},
   "cell_type": "markdown",
   "metadata": {},
   "source": [
    "4. Obtenha a acurácia média, o desvio padrão e o intervalo de confiança a 95% do classificador\n",
    "Perceptron de Múltiplas Camadas usando validação cruzada com 10 dobras (folds) na base de dados\n",
    "(dataset) wine padronizada e não padronizada. Altere manualmente o valor da taxa de aprendizado\n",
    "inicial no melhor classificador para 0.1, 0.01 e 0.0001 e observe o resultado."
   ]
  },
  {
   "cell_type": "code",
   "execution_count": 40,
   "metadata": {},
   "outputs": [
    {
     "name": "stderr",
     "output_type": "stream",
     "text": [
      "/usr/local/lib/python3.10/dist-packages/sklearn/neural_network/_multilayer_perceptron.py:686: ConvergenceWarning: Stochastic Optimizer: Maximum iterations (200) reached and the optimization hasn't converged yet.\n",
      "  warnings.warn(\n",
      "/usr/local/lib/python3.10/dist-packages/sklearn/neural_network/_multilayer_perceptron.py:686: ConvergenceWarning: Stochastic Optimizer: Maximum iterations (200) reached and the optimization hasn't converged yet.\n",
      "  warnings.warn(\n",
      "/usr/local/lib/python3.10/dist-packages/sklearn/neural_network/_multilayer_perceptron.py:686: ConvergenceWarning: Stochastic Optimizer: Maximum iterations (200) reached and the optimization hasn't converged yet.\n",
      "  warnings.warn(\n",
      "/usr/local/lib/python3.10/dist-packages/sklearn/neural_network/_multilayer_perceptron.py:686: ConvergenceWarning: Stochastic Optimizer: Maximum iterations (200) reached and the optimization hasn't converged yet.\n",
      "  warnings.warn(\n",
      "/usr/local/lib/python3.10/dist-packages/sklearn/neural_network/_multilayer_perceptron.py:686: ConvergenceWarning: Stochastic Optimizer: Maximum iterations (200) reached and the optimization hasn't converged yet.\n",
      "  warnings.warn(\n",
      "/usr/local/lib/python3.10/dist-packages/sklearn/neural_network/_multilayer_perceptron.py:686: ConvergenceWarning: Stochastic Optimizer: Maximum iterations (200) reached and the optimization hasn't converged yet.\n",
      "  warnings.warn(\n",
      "/usr/local/lib/python3.10/dist-packages/sklearn/neural_network/_multilayer_perceptron.py:686: ConvergenceWarning: Stochastic Optimizer: Maximum iterations (200) reached and the optimization hasn't converged yet.\n",
      "  warnings.warn(\n",
      "/usr/local/lib/python3.10/dist-packages/sklearn/neural_network/_multilayer_perceptron.py:686: ConvergenceWarning: Stochastic Optimizer: Maximum iterations (200) reached and the optimization hasn't converged yet.\n",
      "  warnings.warn(\n"
     ]
    },
    {
     "name": "stdout",
     "output_type": "stream",
     "text": [
      "\n",
      "Mean Accuracy: 0.98 Standard Deviation: 0.03\n",
      "Accuracy Confidence Interval (95%): (0.96, 0.99)\n",
      "\n"
     ]
    },
    {
     "name": "stderr",
     "output_type": "stream",
     "text": [
      "/usr/local/lib/python3.10/dist-packages/sklearn/neural_network/_multilayer_perceptron.py:686: ConvergenceWarning: Stochastic Optimizer: Maximum iterations (200) reached and the optimization hasn't converged yet.\n",
      "  warnings.warn(\n",
      "/usr/local/lib/python3.10/dist-packages/sklearn/neural_network/_multilayer_perceptron.py:686: ConvergenceWarning: Stochastic Optimizer: Maximum iterations (200) reached and the optimization hasn't converged yet.\n",
      "  warnings.warn(\n"
     ]
    }
   ],
   "source": [
    "from sklearn.neural_network import MLPClassifier\n",
    "from sklearn.preprocessing import StandardScaler\n",
    "from sklearn.pipeline import Pipeline\n",
    "\n",
    "# Normalizando\n",
    "mlp = MLPClassifier(random_state = 0)\n",
    "scalar = StandardScaler()\n",
    "pipeline = Pipeline([('transformer', scalar), ('estimator', mlp)])\n",
    "\n",
    "scores = cross_val_score(pipeline, wine_X, wine_y, scoring = 'accuracy', cv = 10)\n",
    "\n",
    "mean = scores.mean()\n",
    "std = scores.std()\n",
    "inf, sup = stats.norm.interval(0.95, loc=mean, scale=std/np.sqrt(len(scores)))\n",
    "\n",
    "print(\"\\nMean Accuracy: %0.2f Standard Deviation: %0.2f\" % (mean, std))\n",
    "print (\"Accuracy Confidence Interval (95%%): (%0.2f, %0.2f)\\n\" % (inf, sup)) \n"
   ]
  },
  {
   "cell_type": "code",
   "execution_count": 41,
   "metadata": {},
   "outputs": [
    {
     "name": "stderr",
     "output_type": "stream",
     "text": [
      "/usr/local/lib/python3.10/dist-packages/sklearn/neural_network/_multilayer_perceptron.py:686: ConvergenceWarning: Stochastic Optimizer: Maximum iterations (200) reached and the optimization hasn't converged yet.\n",
      "  warnings.warn(\n",
      "/usr/local/lib/python3.10/dist-packages/sklearn/neural_network/_multilayer_perceptron.py:686: ConvergenceWarning: Stochastic Optimizer: Maximum iterations (200) reached and the optimization hasn't converged yet.\n",
      "  warnings.warn(\n",
      "/usr/local/lib/python3.10/dist-packages/sklearn/neural_network/_multilayer_perceptron.py:686: ConvergenceWarning: Stochastic Optimizer: Maximum iterations (200) reached and the optimization hasn't converged yet.\n",
      "  warnings.warn(\n",
      "/usr/local/lib/python3.10/dist-packages/sklearn/neural_network/_multilayer_perceptron.py:686: ConvergenceWarning: Stochastic Optimizer: Maximum iterations (200) reached and the optimization hasn't converged yet.\n",
      "  warnings.warn(\n",
      "/usr/local/lib/python3.10/dist-packages/sklearn/neural_network/_multilayer_perceptron.py:686: ConvergenceWarning: Stochastic Optimizer: Maximum iterations (200) reached and the optimization hasn't converged yet.\n",
      "  warnings.warn(\n",
      "/usr/local/lib/python3.10/dist-packages/sklearn/neural_network/_multilayer_perceptron.py:686: ConvergenceWarning: Stochastic Optimizer: Maximum iterations (200) reached and the optimization hasn't converged yet.\n",
      "  warnings.warn(\n",
      "/usr/local/lib/python3.10/dist-packages/sklearn/neural_network/_multilayer_perceptron.py:686: ConvergenceWarning: Stochastic Optimizer: Maximum iterations (200) reached and the optimization hasn't converged yet.\n",
      "  warnings.warn(\n",
      "/usr/local/lib/python3.10/dist-packages/sklearn/neural_network/_multilayer_perceptron.py:686: ConvergenceWarning: Stochastic Optimizer: Maximum iterations (200) reached and the optimization hasn't converged yet.\n",
      "  warnings.warn(\n",
      "/usr/local/lib/python3.10/dist-packages/sklearn/neural_network/_multilayer_perceptron.py:686: ConvergenceWarning: Stochastic Optimizer: Maximum iterations (200) reached and the optimization hasn't converged yet.\n",
      "  warnings.warn(\n"
     ]
    },
    {
     "name": "stdout",
     "output_type": "stream",
     "text": [
      "\n",
      "Mean Accuracy: 0.90 Standard Deviation: 0.06\n",
      "Accuracy Confidence Interval (95%): (0.87, 0.94)\n",
      "\n"
     ]
    },
    {
     "name": "stderr",
     "output_type": "stream",
     "text": [
      "/usr/local/lib/python3.10/dist-packages/sklearn/neural_network/_multilayer_perceptron.py:686: ConvergenceWarning: Stochastic Optimizer: Maximum iterations (200) reached and the optimization hasn't converged yet.\n",
      "  warnings.warn(\n"
     ]
    }
   ],
   "source": [
    "# Sem normalizar\n",
    "mlp = MLPClassifier(random_state = 0)\n",
    "\n",
    "scores = cross_val_score(mlp, wine_X, wine_y, scoring='accuracy', cv = 10)\n",
    "\n",
    "mean = scores.mean()\n",
    "std = scores.std()\n",
    "inf, sup = stats.norm.interval(0.95, loc=mean, scale=std/np.sqrt(len(scores)))\n",
    "\n",
    "print(\"\\nMean Accuracy: %0.2f Standard Deviation: %0.2f\" % (mean, std))\n",
    "print (\"Accuracy Confidence Interval (95%%): (%0.2f, %0.2f)\\n\" % (inf, sup)) "
   ]
  },
  {
   "cell_type": "code",
   "execution_count": 48,
   "metadata": {},
   "outputs": [
    {
     "name": "stdout",
     "output_type": "stream",
     "text": [
      "Learning Rate:  0.1\n",
      "Mean Accuracy: 0.98 Standard Deviation: 0.03\n",
      "Accuracy Confidence Interval (95%): (0.96, 0.99)\n",
      "\n",
      "Learning Rate:  0.01\n",
      "Mean Accuracy: 0.98 Standard Deviation: 0.03\n",
      "Accuracy Confidence Interval (95%): (0.96, 0.99)\n",
      "\n",
      "Learning Rate:  0.001\n",
      "Mean Accuracy: 0.98 Standard Deviation: 0.03\n",
      "Accuracy Confidence Interval (95%): (0.96, 0.99)\n",
      "\n"
     ]
    }
   ],
   "source": [
    "# Melhor classificador foi o normalizado\n",
    "\n",
    "rates = [0.1, 0.01, 0.001]\n",
    "for rate in rates:\n",
    "    mlp = MLPClassifier(learning_rate_init = rate, random_state = 0, max_iter = 500)\n",
    "    scalar = StandardScaler()\n",
    "    pipeline = Pipeline([('transformer', scalar), ('estimator', mlp)])\n",
    "\n",
    "    scores = cross_val_score(pipeline, wine_X, wine_y, scoring = 'accuracy', cv = 10)\n",
    "\n",
    "    mean = scores.mean()\n",
    "    std = scores.std()\n",
    "    inf, sup = stats.norm.interval(0.95, loc=mean, scale=std/np.sqrt(len(scores)))\n",
    "\n",
    "    print(\"Learning Rate: \", rate)\n",
    "    print(\"Mean Accuracy: %0.2f Standard Deviation: %0.2f\" % (mean, std))\n",
    "    print (\"Accuracy Confidence Interval (95%%): (%0.2f, %0.2f)\\n\" % (inf, sup)) "
   ]
  }
 ],
 "metadata": {
  "kernelspec": {
   "display_name": "Python 3 (ipykernel)",
   "language": "python",
   "name": "python3"
  },
  "language_info": {
   "codemirror_mode": {
    "name": "ipython",
    "version": 3
   },
   "file_extension": ".py",
   "mimetype": "text/x-python",
   "name": "python",
   "nbconvert_exporter": "python",
   "pygments_lexer": "ipython3",
   "version": "3.10.6"
  },
  "orig_nbformat": 4
 },
 "nbformat": 4,
 "nbformat_minor": 2
}
