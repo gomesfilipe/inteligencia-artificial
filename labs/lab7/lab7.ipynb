{
 "cells": [
  {
   "attachments": {},
   "cell_type": "markdown",
   "metadata": {},
   "source": [
    "# Laboratório 7 - Busca (Parte I)\n",
    "Filipe Gomes Arante de Souza"
   ]
  },
  {
   "attachments": {},
   "cell_type": "markdown",
   "metadata": {},
   "source": [
    "1. Implementar o método beam search não determinístico."
   ]
  },
  {
   "cell_type": "code",
   "execution_count": 1,
   "metadata": {},
   "outputs": [],
   "source": [
    "import random\n",
    "\n",
    "def states_total_value(states):\n",
    "    total_sum = 0\n",
    "    for state in states:\n",
    "        total_sum = total_sum + state[0]\n",
    "    return total_sum\n",
    "\n",
    "def roulette_construction(states):\n",
    "    aux_states = []\n",
    "    roulette = []\n",
    "    total_value = states_total_value(states)\n",
    "\n",
    "    for state in states:\n",
    "        value = state[0]\n",
    "        if total_value != 0:\n",
    "            ratio = value/total_value\n",
    "        else:\n",
    "            ratio = 1\n",
    "        aux_states.append((ratio,state[1]))\n",
    " \n",
    "    acc_value = 0\n",
    "    for state in aux_states:\n",
    "        acc_value = acc_value + state[0]\n",
    "        s = (acc_value,state[1])\n",
    "        roulette.append(s)\n",
    "    return roulette\n",
    "\n",
    "def roulette_run (rounds, roulette):\n",
    "    if roulette == []:\n",
    "        return []\n",
    "    selected = []\n",
    "    while len(selected) < rounds:\n",
    "        r = random.uniform(0,1)\n",
    "        for state in roulette:\n",
    "            if r <= state[0]:\n",
    "                selected.append(state[1])\n",
    "                break\n",
    "    return selected\n"
   ]
  },
  {
   "cell_type": "code",
   "execution_count": 2,
   "metadata": {},
   "outputs": [],
   "source": [
    "import time\n",
    "\n",
    "def state_size(state, items):\n",
    "    size = 0\n",
    "    for i in range(len(state)):\n",
    "        size += state[i] * items[i][1]\n",
    "    return size\n",
    "\n",
    "def evaluate_state(state, items):\n",
    "    value = 0\n",
    "    for i in range(len(state)):\n",
    "        value += state[i] * items[i][0]\n",
    "    return value\n",
    "\n",
    "def generate_states(initial_state):\n",
    "    states = []\n",
    "    for i in range (len(initial_state)):\n",
    "        aux = initial_state.copy()\n",
    "        aux[i] = initial_state[i] + 1\n",
    "        states.append(aux)\n",
    "    return states\n",
    "\n",
    "def return_value(state_tuple):\n",
    "    return state_tuple[0]\n"
   ]
  },
  {
   "cell_type": "code",
   "execution_count": 6,
   "metadata": {},
   "outputs": [],
   "source": [
    "def beam_search_nd(max_size, items, tam_viga, max_time):\n",
    "    \n",
    "    start = time.process_time()\n",
    "    current_state = [0]*len(items)\n",
    "    queue = [(evaluate_state(current_state,items),current_state)]\n",
    "    end = 0\n",
    "    \n",
    "    while queue and end-start <= max_time:\n",
    "        states = []\n",
    "        for state in queue:\n",
    "            possible_states = generate_states(state[1])\n",
    "            for state in possible_states:\n",
    "                if state_size(state, items) <= max_size:\n",
    "                    states.append((evaluate_state(state,items),state))\n",
    "        if states == []:\n",
    "            break\n",
    "        else:\n",
    "            sel_states = roulette_run(tam_viga, roulette_construction(states))\n",
    "            queue = [(evaluate_state(st, items), st) for st in sel_states]\n",
    "\n",
    "        end = time.process_time()    \n",
    "\n",
    "    return queue[0][1], state_size(queue[0][1], items), queue[0][0]\n"
   ]
  },
  {
   "cell_type": "code",
   "execution_count": 32,
   "metadata": {},
   "outputs": [
    {
     "data": {
      "text/plain": [
       "([0, 2, 1], 19, 13)"
      ]
     },
     "execution_count": 32,
     "metadata": {},
     "output_type": "execute_result"
    }
   ],
   "source": [
    "max_size = 19\n",
    "items = [(1,3),(4,6),(5,7)] # (peso, valor)\n",
    "\n",
    "beam_search_nd(19, items, 2, 120)"
   ]
  },
  {
   "attachments": {},
   "cell_type": "markdown",
   "metadata": {},
   "source": [
    "2. Alterar o algoritmo de hill climbing determinístico para levar em consideração a existência de um número finito de elementos de cada item. Cada item tem um número finito e possivelmente diferente de elementos disponíveis."
   ]
  },
  {
   "cell_type": "code",
   "execution_count": null,
   "metadata": {},
   "outputs": [],
   "source": []
  },
  {
   "attachments": {},
   "cell_type": "markdown",
   "metadata": {},
   "source": [
    "3. Alterar o algoritmo de gradiente de subida para usar uma roleta ao escolher na vizinhança o próximo estado a ser considerado. Note que o critério de parada também deve ser modificado. Como sugestão de critério de parada considere estabelecer um número máximo de vezes que se\n",
    "escolhe uma solução que não melhora a melhor solução encontrada até o momento."
   ]
  },
  {
   "cell_type": "code",
   "execution_count": null,
   "metadata": {},
   "outputs": [],
   "source": []
  }
 ],
 "metadata": {
  "kernelspec": {
   "display_name": "Python 3",
   "language": "python",
   "name": "python3"
  },
  "language_info": {
   "codemirror_mode": {
    "name": "ipython",
    "version": 3
   },
   "file_extension": ".py",
   "mimetype": "text/x-python",
   "name": "python",
   "nbconvert_exporter": "python",
   "pygments_lexer": "ipython3",
   "version": "3.10.6"
  },
  "orig_nbformat": 4
 },
 "nbformat": 4,
 "nbformat_minor": 2
}
