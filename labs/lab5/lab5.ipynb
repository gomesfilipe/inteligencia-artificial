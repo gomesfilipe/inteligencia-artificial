{
 "cells": [
  {
   "cell_type": "markdown",
   "metadata": {},
   "source": [
    "# Laboratório 5 - Classificação\n",
    "Filipe Gomes Arante de Souza"
   ]
  },
  {
   "cell_type": "markdown",
   "metadata": {},
   "source": [
    "1. Apresente as matrizes de confusão da aplicação dos classificadores ZeroR, Aleatório Uniforme e\n",
    "Aleatório Estratificado usando validação cruzada com 10 dobras (folds) na base de dados (dataset)\n",
    "wine."
   ]
  },
  {
   "cell_type": "code",
   "execution_count": 8,
   "metadata": {},
   "outputs": [
    {
     "name": "stdout",
     "output_type": "stream",
     "text": [
      "[[ 0 59  0]\n",
      " [ 0 71  0]\n",
      " [ 0 48  0]]\n"
     ]
    },
    {
     "data": {
      "image/png": "[encoded data removed]",
      "text/plain": [
       "<Figure size 480x480 with 1 Axes>"
      ]
     },
     "metadata": {},
     "output_type": "display_data"
    },
    {
     "name": "stdout",
     "output_type": "stream",
     "text": [
      "[0.38888889 0.38888889 0.38888889 0.4        0.42857143]\n",
      "\n",
      "Mean Accuracy: 0.40 Standard Deviation: 0.02\n",
      "Accuracy Confidence Interval (95%): (0.39, 0.41)\n",
      "\n"
     ]
    }
   ],
   "source": [
    "from sklearn.datasets import load_wine\n",
    "import numpy as np\n",
    "from scipy import stats\n",
    "from sklearn import datasets\n",
    "from sklearn.model_selection import cross_val_predict, cross_val_score\n",
    "from sklearn.dummy import DummyClassifier\n",
    "from sklearn.metrics import confusion_matrix\n",
    "import matplotlib.pyplot as plt\n",
    "\n",
    "\n",
    "wine = load_wine()\n",
    "\n",
    "wine_X = wine.data\n",
    "wine_y = wine.target\n",
    "\n",
    "# Classificador ZeroR\n",
    "zR = DummyClassifier()\n",
    "\n",
    "y_pred = cross_val_predict(zR, wine_X, wine_y, cv=10)\n",
    "conf_mat = confusion_matrix(wine_y, y_pred)\n",
    "\n",
    "print(conf_mat)\n",
    "\n",
    "plt.matshow(conf_mat, cmap=plt.cm.Blues)\n",
    "for i in range(len(conf_mat)):\n",
    "    for j in range(len(conf_mat)):\n",
    "        plt.text(j, i, conf_mat[i][j], va=\"center\", ha=\"center\")\n",
    "\n",
    "plt.show()\n",
    "\n",
    "scores = cross_val_score(zR, wine_X, wine_y, scoring='accuracy', \n",
    "                         cv = 5)\n",
    "\n",
    "print(scores)\n",
    "\n",
    "mean = scores.mean()\n",
    "std = scores.std()\n",
    "inf, sup = stats.norm.interval(0.95, loc=mean, \n",
    "                               scale=std/np.sqrt(len(scores)))\n",
    "\n",
    "print(\"\\nMean Accuracy: %0.2f Standard Deviation: %0.2f\" % (mean, std))\n",
    "print (\"Accuracy Confidence Interval (95%%): (%0.2f, %0.2f)\\n\" % \n",
    "       (inf, sup)) \n"
   ]
  },
  {
   "cell_type": "code",
   "execution_count": 9,
   "metadata": {},
   "outputs": [
    {
     "name": "stdout",
     "output_type": "stream",
     "text": [
      "[[21 17 21]\n",
      " [21 18 32]\n",
      " [15 20 13]]\n"
     ]
    },
    {
     "data": {
      "image/png": "[encoded data removed]",
      "text/plain": [
       "<Figure size 480x480 with 1 Axes>"
      ]
     },
     "metadata": {},
     "output_type": "display_data"
    },
    {
     "name": "stdout",
     "output_type": "stream",
     "text": [
      "[0.33333333 0.30555556 0.33333333 0.31428571 0.37142857]\n",
      "\n",
      "Mean Accuracy: 0.33 Standard Deviation: 0.02\n",
      "Accuracy Confidence Interval (95%): (0.31, 0.35)\n",
      "\n"
     ]
    }
   ],
   "source": [
    "# Classificador aleatório uniforme\n",
    "aU = DummyClassifier(strategy='uniform')\n",
    "\n",
    "y_pred = cross_val_predict(aU, wine_X, wine_y, cv=5)\n",
    "conf_mat = confusion_matrix(wine_y, y_pred)\n",
    "\n",
    "print(conf_mat)\n",
    "\n",
    "plt.matshow(conf_mat, cmap=plt.cm.Blues)\n",
    "for i in range(len(conf_mat)):\n",
    "    for j in range(len(conf_mat)):\n",
    "        plt.text(j, i, conf_mat[i][j], va=\"center\", ha=\"center\")\n",
    "\n",
    "plt.show()\n",
    "\n",
    "scores = cross_val_score(aU, wine_X, wine_y, scoring='accuracy', \n",
    "                         cv = 5)\n",
    "\n",
    "print(scores)\n",
    "\n",
    "mean = scores.mean()\n",
    "std = scores.std()\n",
    "inf, sup = stats.norm.interval(0.95, loc=mean, \n",
    "                               scale=std/np.sqrt(len(scores)))\n",
    "\n",
    "print(\"\\nMean Accuracy: %0.2f Standard Deviation: %0.2f\" % (mean, std))\n",
    "print (\"Accuracy Confidence Interval (95%%): (%0.2f, %0.2f)\\n\" % \n",
    "       (inf, sup)) "
   ]
  },
  {
   "cell_type": "code",
   "execution_count": 10,
   "metadata": {},
   "outputs": [
    {
     "name": "stdout",
     "output_type": "stream",
     "text": [
      "[[23 21 15]\n",
      " [13 34 24]\n",
      " [12 25 11]]\n"
     ]
    },
    {
     "data": {
      "image/png": "[encoded data removed]",
      "text/plain": [
       "<Figure size 480x480 with 1 Axes>"
      ]
     },
     "metadata": {},
     "output_type": "display_data"
    },
    {
     "name": "stdout",
     "output_type": "stream",
     "text": [
      "[0.27777778 0.33333333 0.38888889 0.48571429 0.42857143]\n",
      "\n",
      "Mean Accuracy: 0.38 Standard Deviation: 0.07\n",
      "Accuracy Confidence Interval (95%): (0.32, 0.45)\n",
      "\n"
     ]
    }
   ],
   "source": [
    "# Classificador aleatório estratificado\n",
    "aS = DummyClassifier(strategy='stratified')\n",
    "\n",
    "y_pred = cross_val_predict(aS, wine_X, wine_y, cv=5)\n",
    "conf_mat = confusion_matrix(wine_y, y_pred)\n",
    "\n",
    "print(conf_mat)\n",
    "\n",
    "plt.matshow(conf_mat, cmap=plt.cm.Blues)\n",
    "for i in range(len(conf_mat)):\n",
    "    for j in range(len(conf_mat)):\n",
    "        plt.text(j, i, conf_mat[i][j], va=\"center\", ha=\"center\")\n",
    "\n",
    "plt.show()\n",
    "\n",
    "scores = cross_val_score(aS, wine_X, wine_y, scoring='accuracy', \n",
    "                         cv = 5)\n",
    "\n",
    "print(scores)\n",
    "\n",
    "mean = scores.mean()\n",
    "std = scores.std()\n",
    "inf, sup = stats.norm.interval(0.95, loc=mean, \n",
    "                               scale=std/np.sqrt(len(scores)))\n",
    "\n",
    "print(\"\\nMean Accuracy: %0.2f Standard Deviation: %0.2f\" % (mean, std))\n",
    "print (\"Accuracy Confidence Interval (95%%): (%0.2f, %0.2f)\\n\" % \n",
    "       (inf, sup)) "
   ]
  },
  {
   "cell_type": "markdown",
   "metadata": {},
   "source": [
    "2. Obtenha a acurácia média, o desvio padrão e o intervalo de confiança a 95% dos classificadores\n",
    "Vizinho Mais Próximo, 3 Vizinhos Mais Próximos e 5 Vizinhos Mais Próximos usando validação\n",
    "cruzada com 5 dobras (folds) na base de dados (dataset) wine."
   ]
  },
  {
   "cell_type": "code",
   "execution_count": 5,
   "metadata": {},
   "outputs": [
    {
     "name": "stdout",
     "output_type": "stream",
     "text": [
      "[0.80555556 0.63888889 0.66666667 0.68571429 0.82857143]\n",
      "\n",
      "Mean Accuracy: 0.73 Standard Deviation: 0.08\n",
      "Accuracy Confidence Interval (95%): (0.66, 0.79)\n",
      "\n"
     ]
    }
   ],
   "source": [
    "from sklearn.neighbors import KNeighborsClassifier\n",
    "from sklearn.model_selection import cross_val_score\n",
    "\n",
    "# Classificador 1 vizinho mais próximo\n",
    "oneNN = KNeighborsClassifier(n_neighbors = 1)\n",
    "\n",
    "scores = cross_val_score(oneNN, wine_X, wine_y, scoring='accuracy', \n",
    "                         cv = 5)\n",
    "\n",
    "print(scores)\n",
    "\n",
    "mean = scores.mean()\n",
    "std = scores.std()\n",
    "inf, sup = stats.norm.interval(0.95, loc=mean, \n",
    "                               scale=std/np.sqrt(len(scores)))\n",
    "\n",
    "print(\"\\nMean Accuracy: %0.2f Standard Deviation: %0.2f\" % (mean, std))\n",
    "print (\"Accuracy Confidence Interval (95%%): (%0.2f, %0.2f)\\n\" % \n",
    "       (inf, sup)) "
   ]
  },
  {
   "cell_type": "code",
   "execution_count": 7,
   "metadata": {},
   "outputs": [
    {
     "name": "stdout",
     "output_type": "stream",
     "text": [
      "[0.63888889 0.69444444 0.66666667 0.65714286 0.85714286]\n",
      "\n",
      "Mean Accuracy: 0.70 Standard Deviation: 0.08\n",
      "Accuracy Confidence Interval (95%): (0.63, 0.77)\n",
      "\n"
     ]
    }
   ],
   "source": [
    "# Classificador 3 vizinhos mais próximos\n",
    "threeNN = KNeighborsClassifier(n_neighbors = 3)\n",
    "\n",
    "scores = cross_val_score(threeNN, wine_X, wine_y, scoring='accuracy', \n",
    "                         cv = 5)\n",
    "\n",
    "print(scores)\n",
    "\n",
    "mean = scores.mean()\n",
    "std = scores.std()\n",
    "inf, sup = stats.norm.interval(0.95, loc=mean, \n",
    "                               scale=std/np.sqrt(len(scores)))\n",
    "\n",
    "print(\"\\nMean Accuracy: %0.2f Standard Deviation: %0.2f\" % (mean, std))\n",
    "print (\"Accuracy Confidence Interval (95%%): (%0.2f, %0.2f)\\n\" % \n",
    "       (inf, sup)) "
   ]
  },
  {
   "cell_type": "code",
   "execution_count": 6,
   "metadata": {},
   "outputs": [
    {
     "name": "stdout",
     "output_type": "stream",
     "text": [
      "[0.72222222 0.66666667 0.63888889 0.65714286 0.77142857]\n",
      "\n",
      "Mean Accuracy: 0.69 Standard Deviation: 0.05\n",
      "Accuracy Confidence Interval (95%): (0.65, 0.73)\n",
      "\n"
     ]
    }
   ],
   "source": [
    "# Classificador 5 vizinhos mais próximos\n",
    "fiveNN = KNeighborsClassifier(n_neighbors = 5)\n",
    "\n",
    "scores = cross_val_score(fiveNN, wine_X, wine_y, scoring='accuracy', \n",
    "                         cv = 5)\n",
    "\n",
    "print(scores)\n",
    "\n",
    "mean = scores.mean()\n",
    "std = scores.std()\n",
    "inf, sup = stats.norm.interval(0.95, loc=mean, \n",
    "                               scale=std/np.sqrt(len(scores)))\n",
    "\n",
    "print(\"\\nMean Accuracy: %0.2f Standard Deviation: %0.2f\" % (mean, std))\n",
    "print (\"Accuracy Confidence Interval (95%%): (%0.2f, %0.2f)\\n\" % \n",
    "       (inf, sup)) "
   ]
  },
  {
   "cell_type": "markdown",
   "metadata": {},
   "source": [
    "3. Reexecute os classificadores K Vizinhos Mais Próximos do exercício 2 na mesma base wine com\n",
    "a mesma estratégia de reamostragem e usando o inverso da distância para diferenciar o peso dos\n",
    "vizinhos na hora de computar a classificação dos exemplos de teste. Compare os resultados com os\n",
    "obtidos no exercício 2."
   ]
  },
  {
   "cell_type": "code",
   "execution_count": 11,
   "metadata": {},
   "outputs": [
    {
     "name": "stdout",
     "output_type": "stream",
     "text": [
      "[0.80555556 0.63888889 0.66666667 0.68571429 0.82857143]\n",
      "\n",
      "Mean Accuracy: 0.73 Standard Deviation: 0.08\n",
      "Accuracy Confidence Interval (95%): (0.66, 0.79)\n",
      "\n"
     ]
    }
   ],
   "source": [
    "from sklearn.neighbors import KNeighborsClassifier\n",
    "from sklearn.model_selection import cross_val_score\n",
    "\n",
    "# Classificador 1 vizinho mais próximo com peso na escolha\n",
    "oneNN = KNeighborsClassifier(n_neighbors = 1, weights = 'distance')\n",
    "\n",
    "scores = cross_val_score(oneNN, wine_X, wine_y, scoring='accuracy', \n",
    "                         cv = 5)\n",
    "\n",
    "print(scores)\n",
    "\n",
    "mean = scores.mean()\n",
    "std = scores.std()\n",
    "inf, sup = stats.norm.interval(0.95, loc=mean, \n",
    "                               scale=std/np.sqrt(len(scores)))\n",
    "\n",
    "print(\"\\nMean Accuracy: %0.2f Standard Deviation: %0.2f\" % (mean, std))\n",
    "print (\"Accuracy Confidence Interval (95%%): (%0.2f, %0.2f)\\n\" % \n",
    "       (inf, sup)) "
   ]
  },
  {
   "cell_type": "code",
   "execution_count": 12,
   "metadata": {},
   "outputs": [
    {
     "name": "stdout",
     "output_type": "stream",
     "text": [
      "[0.72222222 0.72222222 0.66666667 0.65714286 0.85714286]\n",
      "\n",
      "Mean Accuracy: 0.73 Standard Deviation: 0.07\n",
      "Accuracy Confidence Interval (95%): (0.66, 0.79)\n",
      "\n"
     ]
    }
   ],
   "source": [
    "from sklearn.neighbors import KNeighborsClassifier\n",
    "from sklearn.model_selection import cross_val_score\n",
    "\n",
    "# Classificador 1 vizinho mais próximo com peso na escolha\n",
    "threeNN = KNeighborsClassifier(n_neighbors = 3, weights = 'distance')\n",
    "\n",
    "scores = cross_val_score(threeNN, wine_X, wine_y, scoring='accuracy', \n",
    "                         cv = 5)\n",
    "\n",
    "print(scores)\n",
    "\n",
    "mean = scores.mean()\n",
    "std = scores.std()\n",
    "inf, sup = stats.norm.interval(0.95, loc=mean, \n",
    "                               scale=std/np.sqrt(len(scores)))\n",
    "\n",
    "print(\"\\nMean Accuracy: %0.2f Standard Deviation: %0.2f\" % (mean, std))\n",
    "print (\"Accuracy Confidence Interval (95%%): (%0.2f, %0.2f)\\n\" % \n",
    "       (inf, sup)) "
   ]
  },
  {
   "cell_type": "code",
   "execution_count": 13,
   "metadata": {},
   "outputs": [
    {
     "name": "stdout",
     "output_type": "stream",
     "text": [
      "[0.77777778 0.63888889 0.66666667 0.65714286 0.85714286]\n",
      "\n",
      "Mean Accuracy: 0.72 Standard Deviation: 0.08\n",
      "Accuracy Confidence Interval (95%): (0.65, 0.79)\n",
      "\n"
     ]
    }
   ],
   "source": [
    "from sklearn.neighbors import KNeighborsClassifier\n",
    "from sklearn.model_selection import cross_val_score\n",
    "\n",
    "# Classificador 1 vizinho mais próximo com peso na escolha\n",
    "fiveNN = KNeighborsClassifier(n_neighbors = 5, weights = 'distance')\n",
    "\n",
    "scores = cross_val_score(fiveNN, wine_X, wine_y, scoring='accuracy', \n",
    "                         cv = 5)\n",
    "\n",
    "print(scores)\n",
    "\n",
    "mean = scores.mean()\n",
    "std = scores.std()\n",
    "inf, sup = stats.norm.interval(0.95, loc=mean, \n",
    "                               scale=std/np.sqrt(len(scores)))\n",
    "\n",
    "print(\"\\nMean Accuracy: %0.2f Standard Deviation: %0.2f\" % (mean, std))\n",
    "print (\"Accuracy Confidence Interval (95%%): (%0.2f, %0.2f)\\n\" % \n",
    "       (inf, sup)) "
   ]
  },
  {
   "cell_type": "markdown",
   "metadata": {},
   "source": [
    "4. Obtenha a acurácia média, o desvio padrão e o intervalo de confiança a 95% do classificador\n",
    "Vizinho Mais Próximo usando validação cruzada com 10 dobras (folds) na base de dados (dataset)\n",
    "wine padronizada e não padronizada."
   ]
  },
  {
   "cell_type": "code",
   "execution_count": 18,
   "metadata": {},
   "outputs": [
    {
     "name": "stdout",
     "output_type": "stream",
     "text": [
      "[0.83333333 0.94444444 0.94444444 0.94444444 1.         0.94444444\n",
      " 1.         1.         0.88235294 0.94117647]\n",
      "\n",
      "Mean Accuracy: 0.94 Standard Deviation: 0.05\n",
      "Accuracy Confidence Interval (95%): (0.91, 0.97)\n",
      "\n"
     ]
    }
   ],
   "source": [
    "from sklearn.neighbors import KNeighborsClassifier\n",
    "from sklearn.model_selection import cross_val_score\n",
    "from sklearn.preprocessing import StandardScaler\n",
    "from sklearn.pipeline import Pipeline\n",
    "\n",
    "# Classificador 1 vizinho mais próximo com peso na escolha com dados normalizados\n",
    "oneNN = KNeighborsClassifier(n_neighbors = 1, weights = 'distance')\n",
    "\n",
    "scalar = StandardScaler()\n",
    "pipeline = Pipeline([('transformer', scalar), ('estimator', oneNN)])\n",
    "\n",
    "scores = cross_val_score(pipeline, wine_X, wine_y, scoring='accuracy', \n",
    "                         cv = 10)\n",
    "\n",
    "print(scores)\n",
    "\n",
    "mean = scores.mean()\n",
    "std = scores.std()\n",
    "inf, sup = stats.norm.interval(0.95, loc=mean, \n",
    "                               scale=std/np.sqrt(len(scores)))\n",
    "\n",
    "print(\"\\nMean Accuracy: %0.2f Standard Deviation: %0.2f\" % (mean, std))\n",
    "print (\"Accuracy Confidence Interval (95%%): (%0.2f, %0.2f)\\n\" % \n",
    "       (inf, sup)) "
   ]
  },
  {
   "cell_type": "code",
   "execution_count": 19,
   "metadata": {},
   "outputs": [
    {
     "name": "stdout",
     "output_type": "stream",
     "text": [
      "[0.83333333 0.77777778 0.66666667 0.55555556 0.61111111 0.83333333\n",
      " 0.77777778 0.77777778 0.82352941 0.82352941]\n",
      "\n",
      "Mean Accuracy: 0.75 Standard Deviation: 0.10\n",
      "Accuracy Confidence Interval (95%): (0.69, 0.81)\n",
      "\n"
     ]
    }
   ],
   "source": [
    "# Classificador 1 vizinho mais próximo com peso na escolha com dados não normalizados\n",
    "oneNN = KNeighborsClassifier(n_neighbors = 1, weights = 'distance')\n",
    "\n",
    "scores = cross_val_score(oneNN, wine_X, wine_y, scoring='accuracy', \n",
    "                         cv = 10)\n",
    "\n",
    "print(scores)\n",
    "\n",
    "mean = scores.mean()\n",
    "std = scores.std()\n",
    "inf, sup = stats.norm.interval(0.95, loc=mean, \n",
    "                               scale=std/np.sqrt(len(scores)))\n",
    "\n",
    "print(\"\\nMean Accuracy: %0.2f Standard Deviation: %0.2f\" % (mean, std))\n",
    "print (\"Accuracy Confidence Interval (95%%): (%0.2f, %0.2f)\\n\" % \n",
    "       (inf, sup)) "
   ]
  },
  {
   "cell_type": "markdown",
   "metadata": {},
   "source": [
    "5. Use os classificadores de Bagging\n",
    "(https://scikit-learn.org/stable/modules/generated/sklearn.ensemble.BaggingClassifier.html) e\n",
    "AdaBoost\n",
    "(https://scikit-learn.org/stable/modules/generated/sklearn.ensemble.AdaBoostClassifier.html) para\n",
    "realizar 3 repetições de validação cruzada aninhada com 10 folds no loop externo e 4 folds no loop\n",
    "interno. A busca em grade deve variar apenas a quantidade de classificadores do combinado\n",
    "considerando combinados com 10, 25 e 50 classificadores. A base de dados utilizada é a wine e\n",
    "deve ser padronizada. Apresente a acurácia média, o desvio padrão e o intervalo de confiança a 95%\n",
    "dos dois métodos e realize o teste t de Student para verificar se as diferenças são significativas."
   ]
  },
  {
   "cell_type": "code",
   "execution_count": null,
   "metadata": {},
   "outputs": [],
   "source": []
  },
  {
   "cell_type": "markdown",
   "metadata": {},
   "source": [
    "6. Crie um classificador Tabela que classifica exemplos iguais com a mesma classe e exemplos\n",
    "distintos com a classe majoritária. Avalie este classificador usando na base iris a estratégia de\n",
    "resubstituição (na qual treino e teste são os mesmos conjuntos) e usando uma divisão percentual de\n",
    "70% dos exemplos usados para treino e 30% dos exemplos usados para teste. Compare os\n",
    "resultados e justifique apontando qual resultado tem maior chance de ser generalizado."
   ]
  },
  {
   "cell_type": "code",
   "execution_count": null,
   "metadata": {},
   "outputs": [],
   "source": []
  }
 ],
 "metadata": {
  "kernelspec": {
   "display_name": "Python 3.10.6 64-bit",
   "language": "python",
   "name": "python3"
  },
  "language_info": {
   "codemirror_mode": {
    "name": "ipython",
    "version": 3
   },
   "file_extension": ".py",
   "mimetype": "text/x-python",
   "name": "python",
   "nbconvert_exporter": "python",
   "pygments_lexer": "ipython3",
   "version": "3.10.6"
  },
  "orig_nbformat": 4,
  "vscode": {
   "interpreter": {
    "hash": "916dbcbb3f70747c44a77c7bcd40155683ae19c65e1c03b4aa3499c5328201f1"
   }
  }
 },
 "nbformat": 4,
 "nbformat_minor": 2
}
