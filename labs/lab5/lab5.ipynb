{
 "cells": [
  {
   "cell_type": "markdown",
   "metadata": {},
   "source": [
    "# Laboratório 5 - Classificação\n",
    "Filipe Gomes Arante de Souza"
   ]
  },
  {
   "cell_type": "markdown",
   "metadata": {},
   "source": [
    "1. Apresente as matrizes de confusão da aplicação dos classificadores ZeroR, Aleatório Uniforme e\n",
    "Aleatório Estratificado usando validação cruzada com 10 dobras (folds) na base de dados (dataset)\n",
    "wine."
   ]
  },
  {
   "cell_type": "code",
   "execution_count": null,
   "metadata": {},
   "outputs": [],
   "source": []
  },
  {
   "cell_type": "markdown",
   "metadata": {},
   "source": [
    "2. Obtenha a acurácia média, o desvio padrão e o intervalo de confiança a 95% dos classificadores\n",
    "Vizinho Mais Próximo, 3 Vizinhos Mais Próximos e 5 Vizinhos Mais Próximos usando validação\n",
    "cruzada com 5 dobras (folds) na base de dados (dataset) wine."
   ]
  },
  {
   "cell_type": "code",
   "execution_count": null,
   "metadata": {},
   "outputs": [],
   "source": []
  },
  {
   "cell_type": "markdown",
   "metadata": {},
   "source": [
    "3. Reexecute os classificadores K Vizinhos Mais Próximos do exercício 2 na mesma base wine com\n",
    "a mesma estratégia de reamostragem e usando o inverso da distância para diferenciar o peso dos\n",
    "vizinhos na hora de computar a classificação dos exemplos de teste. Compare os resultados com os\n",
    "obtidos no exercício 2."
   ]
  },
  {
   "cell_type": "code",
   "execution_count": null,
   "metadata": {},
   "outputs": [],
   "source": []
  },
  {
   "cell_type": "markdown",
   "metadata": {},
   "source": [
    "4. Obtenha a acurácia média, o desvio padrão e o intervalo de confiança a 95% do classificador\n",
    "Vizinho Mais Próximo usando validação cruzada com 10 dobras (folds) na base de dados (dataset)\n",
    "wine padronizada e não padronizada."
   ]
  },
  {
   "cell_type": "code",
   "execution_count": null,
   "metadata": {},
   "outputs": [],
   "source": []
  },
  {
   "cell_type": "markdown",
   "metadata": {},
   "source": [
    "5. Use os classificadores de Bagging\n",
    "(https://scikit-learn.org/stable/modules/generated/sklearn.ensemble.BaggingClassifier.html) e\n",
    "AdaBoost\n",
    "(https://scikit-learn.org/stable/modules/generated/sklearn.ensemble.AdaBoostClassifier.html) para\n",
    "realizar 3 repetições de validação cruzada aninhada com 10 folds no loop externo e 4 folds no loop\n",
    "interno. A busca em grade deve variar apenas a quantidade de classificadores do combinado\n",
    "considerando combinados com 10, 25 e 50 classificadores. A base de dados utilizada é a wine e\n",
    "deve ser padronizada. Apresente a acurácia média, o desvio padrão e o intervalo de confiança a 95%\n",
    "dos dois métodos e realize o teste t de Student para verificar se as diferenças são significativas."
   ]
  },
  {
   "cell_type": "code",
   "execution_count": null,
   "metadata": {},
   "outputs": [],
   "source": []
  },
  {
   "cell_type": "markdown",
   "metadata": {},
   "source": [
    "6. Crie um classificador Tabela que classifica exemplos iguais com a mesma classe e exemplos\n",
    "distintos com a classe majoritária. Avalie este classificador usando na base iris a estratégia de\n",
    "resubstituição (na qual treino e teste são os mesmos conjuntos) e usando uma divisão percentual de\n",
    "70% dos exemplos usados para treino e 30% dos exemplos usados para teste. Compare os\n",
    "resultados e justifique apontando qual resultado tem maior chance de ser generalizado."
   ]
  },
  {
   "cell_type": "code",
   "execution_count": null,
   "metadata": {},
   "outputs": [],
   "source": []
  }
 ],
 "metadata": {
  "kernelspec": {
   "display_name": "Python 3.10.6 64-bit",
   "language": "python",
   "name": "python3"
  },
  "language_info": {
   "name": "python",
   "version": "3.10.6"
  },
  "orig_nbformat": 4,
  "vscode": {
   "interpreter": {
    "hash": "916dbcbb3f70747c44a77c7bcd40155683ae19c65e1c03b4aa3499c5328201f1"
   }
  }
 },
 "nbformat": 4,
 "nbformat_minor": 2
}
