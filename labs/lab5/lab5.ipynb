{
 "cells": [
  {
   "cell_type": "markdown",
   "metadata": {},
   "source": [
    "# Laboratório 5 - Classificação\n",
    "Filipe Gomes Arante de Souza"
   ]
  },
  {
   "cell_type": "markdown",
   "metadata": {},
   "source": [
    "1. Apresente as matrizes de confusão da aplicação dos classificadores ZeroR, Aleatório Uniforme e\n",
    "Aleatório Estratificado usando validação cruzada com 10 dobras (folds) na base de dados (dataset)\n",
    "wine."
   ]
  },
  {
   "cell_type": "code",
   "execution_count": 1,
   "metadata": {},
   "outputs": [
    {
     "name": "stdout",
     "output_type": "stream",
     "text": [
      "[[ 0 59  0]\n",
      " [ 0 71  0]\n",
      " [ 0 48  0]]\n"
     ]
    },
    {
     "data": {
      "image/png": "[encoded data removed]",
      "text/plain": [
       "<Figure size 480x480 with 1 Axes>"
      ]
     },
     "metadata": {},
     "output_type": "display_data"
    },
    {
     "name": "stdout",
     "output_type": "stream",
     "text": [
      "[0.38888889 0.38888889 0.38888889 0.4        0.42857143]\n",
      "\n",
      "Mean Accuracy: 0.40 Standard Deviation: 0.02\n",
      "Accuracy Confidence Interval (95%): (0.39, 0.41)\n",
      "\n"
     ]
    }
   ],
   "source": [
    "from sklearn.datasets import load_wine\n",
    "import numpy as np\n",
    "from scipy import stats\n",
    "from sklearn import datasets\n",
    "from sklearn.model_selection import cross_val_predict, cross_val_score\n",
    "from sklearn.dummy import DummyClassifier\n",
    "from sklearn.metrics import confusion_matrix\n",
    "import matplotlib.pyplot as plt\n",
    "\n",
    "\n",
    "wine = load_wine()\n",
    "\n",
    "wine_X = wine.data\n",
    "wine_y = wine.target\n",
    "\n",
    "# Classificador ZeroR\n",
    "zR = DummyClassifier()\n",
    "\n",
    "y_pred = cross_val_predict(zR, wine_X, wine_y, cv=10)\n",
    "conf_mat = confusion_matrix(wine_y, y_pred)\n",
    "\n",
    "print(conf_mat)\n",
    "\n",
    "plt.matshow(conf_mat, cmap=plt.cm.Blues)\n",
    "for i in range(len(conf_mat)):\n",
    "    for j in range(len(conf_mat)):\n",
    "        plt.text(j, i, conf_mat[i][j], va=\"center\", ha=\"center\")\n",
    "\n",
    "plt.show()\n",
    "\n",
    "scores = cross_val_score(zR, wine_X, wine_y, scoring='accuracy', \n",
    "                         cv = 5)\n",
    "\n",
    "print(scores)\n",
    "\n",
    "mean = scores.mean()\n",
    "std = scores.std()\n",
    "inf, sup = stats.norm.interval(0.95, loc=mean, \n",
    "                               scale=std/np.sqrt(len(scores)))\n",
    "\n",
    "print(\"\\nMean Accuracy: %0.2f Standard Deviation: %0.2f\" % (mean, std))\n",
    "print (\"Accuracy Confidence Interval (95%%): (%0.2f, %0.2f)\\n\" % \n",
    "       (inf, sup)) \n"
   ]
  },
  {
   "cell_type": "code",
   "execution_count": 2,
   "metadata": {},
   "outputs": [
    {
     "name": "stdout",
     "output_type": "stream",
     "text": [
      "[[21 19 19]\n",
      " [24 27 20]\n",
      " [19 14 15]]\n"
     ]
    },
    {
     "data": {
      "image/png": "[encoded data removed]",
      "text/plain": [
       "<Figure size 480x480 with 1 Axes>"
      ]
     },
     "metadata": {},
     "output_type": "display_data"
    },
    {
     "name": "stdout",
     "output_type": "stream",
     "text": [
      "[0.36111111 0.27777778 0.27777778 0.42857143 0.34285714]\n",
      "\n",
      "Mean Accuracy: 0.34 Standard Deviation: 0.06\n",
      "Accuracy Confidence Interval (95%): (0.29, 0.39)\n",
      "\n"
     ]
    }
   ],
   "source": [
    "# Classificador aleatório uniforme\n",
    "aU = DummyClassifier(strategy='uniform')\n",
    "\n",
    "y_pred = cross_val_predict(aU, wine_X, wine_y, cv=5)\n",
    "conf_mat = confusion_matrix(wine_y, y_pred)\n",
    "\n",
    "print(conf_mat)\n",
    "\n",
    "plt.matshow(conf_mat, cmap=plt.cm.Blues)\n",
    "for i in range(len(conf_mat)):\n",
    "    for j in range(len(conf_mat)):\n",
    "        plt.text(j, i, conf_mat[i][j], va=\"center\", ha=\"center\")\n",
    "\n",
    "plt.show()\n",
    "\n",
    "scores = cross_val_score(aU, wine_X, wine_y, scoring='accuracy', \n",
    "                         cv = 5)\n",
    "\n",
    "print(scores)\n",
    "\n",
    "mean = scores.mean()\n",
    "std = scores.std()\n",
    "inf, sup = stats.norm.interval(0.95, loc=mean, \n",
    "                               scale=std/np.sqrt(len(scores)))\n",
    "\n",
    "print(\"\\nMean Accuracy: %0.2f Standard Deviation: %0.2f\" % (mean, std))\n",
    "print (\"Accuracy Confidence Interval (95%%): (%0.2f, %0.2f)\\n\" % \n",
    "       (inf, sup)) "
   ]
  },
  {
   "cell_type": "code",
   "execution_count": 3,
   "metadata": {},
   "outputs": [
    {
     "name": "stdout",
     "output_type": "stream",
     "text": [
      "[[21 20 18]\n",
      " [20 31 20]\n",
      " [10 23 15]]\n"
     ]
    },
    {
     "data": {
      "image/png": "[encoded data removed]",
      "text/plain": [
       "<Figure size 480x480 with 1 Axes>"
      ]
     },
     "metadata": {},
     "output_type": "display_data"
    },
    {
     "name": "stdout",
     "output_type": "stream",
     "text": [
      "[0.38888889 0.27777778 0.30555556 0.37142857 0.25714286]\n",
      "\n",
      "Mean Accuracy: 0.32 Standard Deviation: 0.05\n",
      "Accuracy Confidence Interval (95%): (0.27, 0.37)\n",
      "\n"
     ]
    }
   ],
   "source": [
    "# Classificador aleatório estratificado\n",
    "aS = DummyClassifier(strategy='stratified')\n",
    "\n",
    "y_pred = cross_val_predict(aS, wine_X, wine_y, cv=5)\n",
    "conf_mat = confusion_matrix(wine_y, y_pred)\n",
    "\n",
    "print(conf_mat)\n",
    "\n",
    "plt.matshow(conf_mat, cmap=plt.cm.Blues)\n",
    "for i in range(len(conf_mat)):\n",
    "    for j in range(len(conf_mat)):\n",
    "        plt.text(j, i, conf_mat[i][j], va=\"center\", ha=\"center\")\n",
    "\n",
    "plt.show()\n",
    "\n",
    "scores = cross_val_score(aS, wine_X, wine_y, scoring='accuracy', \n",
    "                         cv = 5)\n",
    "\n",
    "print(scores)\n",
    "\n",
    "mean = scores.mean()\n",
    "std = scores.std()\n",
    "inf, sup = stats.norm.interval(0.95, loc=mean, \n",
    "                               scale=std/np.sqrt(len(scores)))\n",
    "\n",
    "print(\"\\nMean Accuracy: %0.2f Standard Deviation: %0.2f\" % (mean, std))\n",
    "print (\"Accuracy Confidence Interval (95%%): (%0.2f, %0.2f)\\n\" % \n",
    "       (inf, sup)) "
   ]
  },
  {
   "cell_type": "markdown",
   "metadata": {},
   "source": [
    "2. Obtenha a acurácia média, o desvio padrão e o intervalo de confiança a 95% dos classificadores\n",
    "Vizinho Mais Próximo, 3 Vizinhos Mais Próximos e 5 Vizinhos Mais Próximos usando validação\n",
    "cruzada com 5 dobras (folds) na base de dados (dataset) wine."
   ]
  },
  {
   "cell_type": "code",
   "execution_count": 4,
   "metadata": {},
   "outputs": [
    {
     "name": "stdout",
     "output_type": "stream",
     "text": [
      "[0.80555556 0.63888889 0.66666667 0.68571429 0.82857143]\n",
      "\n",
      "Mean Accuracy: 0.73 Standard Deviation: 0.08\n",
      "Accuracy Confidence Interval (95%): (0.66, 0.79)\n",
      "\n"
     ]
    }
   ],
   "source": [
    "from sklearn.neighbors import KNeighborsClassifier\n",
    "from sklearn.model_selection import cross_val_score\n",
    "\n",
    "# Classificador 1 vizinho mais próximo\n",
    "oneNN = KNeighborsClassifier(n_neighbors = 1)\n",
    "\n",
    "scores = cross_val_score(oneNN, wine_X, wine_y, scoring='accuracy', \n",
    "                         cv = 5)\n",
    "\n",
    "print(scores)\n",
    "\n",
    "mean = scores.mean()\n",
    "std = scores.std()\n",
    "inf, sup = stats.norm.interval(0.95, loc=mean, \n",
    "                               scale=std/np.sqrt(len(scores)))\n",
    "\n",
    "print(\"\\nMean Accuracy: %0.2f Standard Deviation: %0.2f\" % (mean, std))\n",
    "print (\"Accuracy Confidence Interval (95%%): (%0.2f, %0.2f)\\n\" % \n",
    "       (inf, sup)) "
   ]
  },
  {
   "cell_type": "code",
   "execution_count": 5,
   "metadata": {},
   "outputs": [
    {
     "name": "stdout",
     "output_type": "stream",
     "text": [
      "[0.63888889 0.69444444 0.66666667 0.65714286 0.85714286]\n",
      "\n",
      "Mean Accuracy: 0.70 Standard Deviation: 0.08\n",
      "Accuracy Confidence Interval (95%): (0.63, 0.77)\n",
      "\n"
     ]
    }
   ],
   "source": [
    "# Classificador 3 vizinhos mais próximos\n",
    "threeNN = KNeighborsClassifier(n_neighbors = 3)\n",
    "\n",
    "scores = cross_val_score(threeNN, wine_X, wine_y, scoring='accuracy', \n",
    "                         cv = 5)\n",
    "\n",
    "print(scores)\n",
    "\n",
    "mean = scores.mean()\n",
    "std = scores.std()\n",
    "inf, sup = stats.norm.interval(0.95, loc=mean, \n",
    "                               scale=std/np.sqrt(len(scores)))\n",
    "\n",
    "print(\"\\nMean Accuracy: %0.2f Standard Deviation: %0.2f\" % (mean, std))\n",
    "print (\"Accuracy Confidence Interval (95%%): (%0.2f, %0.2f)\\n\" % \n",
    "       (inf, sup)) "
   ]
  },
  {
   "cell_type": "code",
   "execution_count": 6,
   "metadata": {},
   "outputs": [
    {
     "name": "stdout",
     "output_type": "stream",
     "text": [
      "[0.72222222 0.66666667 0.63888889 0.65714286 0.77142857]\n",
      "\n",
      "Mean Accuracy: 0.69 Standard Deviation: 0.05\n",
      "Accuracy Confidence Interval (95%): (0.65, 0.73)\n",
      "\n"
     ]
    }
   ],
   "source": [
    "# Classificador 5 vizinhos mais próximos\n",
    "fiveNN = KNeighborsClassifier(n_neighbors = 5)\n",
    "\n",
    "scores = cross_val_score(fiveNN, wine_X, wine_y, scoring='accuracy', \n",
    "                         cv = 5)\n",
    "\n",
    "print(scores)\n",
    "\n",
    "mean = scores.mean()\n",
    "std = scores.std()\n",
    "inf, sup = stats.norm.interval(0.95, loc=mean, \n",
    "                               scale=std/np.sqrt(len(scores)))\n",
    "\n",
    "print(\"\\nMean Accuracy: %0.2f Standard Deviation: %0.2f\" % (mean, std))\n",
    "print (\"Accuracy Confidence Interval (95%%): (%0.2f, %0.2f)\\n\" % \n",
    "       (inf, sup)) "
   ]
  },
  {
   "cell_type": "markdown",
   "metadata": {},
   "source": [
    "3. Reexecute os classificadores K Vizinhos Mais Próximos do exercício 2 na mesma base wine com\n",
    "a mesma estratégia de reamostragem e usando o inverso da distância para diferenciar o peso dos\n",
    "vizinhos na hora de computar a classificação dos exemplos de teste. Compare os resultados com os\n",
    "obtidos no exercício 2."
   ]
  },
  {
   "cell_type": "code",
   "execution_count": 7,
   "metadata": {},
   "outputs": [
    {
     "name": "stdout",
     "output_type": "stream",
     "text": [
      "[0.80555556 0.63888889 0.66666667 0.68571429 0.82857143]\n",
      "\n",
      "Mean Accuracy: 0.73 Standard Deviation: 0.08\n",
      "Accuracy Confidence Interval (95%): (0.66, 0.79)\n",
      "\n"
     ]
    }
   ],
   "source": [
    "from sklearn.neighbors import KNeighborsClassifier\n",
    "from sklearn.model_selection import cross_val_score\n",
    "\n",
    "# Classificador 1 vizinho mais próximo com peso na escolha\n",
    "oneNN = KNeighborsClassifier(n_neighbors = 1, weights = 'distance')\n",
    "\n",
    "scores = cross_val_score(oneNN, wine_X, wine_y, scoring='accuracy', \n",
    "                         cv = 5)\n",
    "\n",
    "print(scores)\n",
    "\n",
    "mean = scores.mean()\n",
    "std = scores.std()\n",
    "inf, sup = stats.norm.interval(0.95, loc=mean, \n",
    "                               scale=std/np.sqrt(len(scores)))\n",
    "\n",
    "print(\"\\nMean Accuracy: %0.2f Standard Deviation: %0.2f\" % (mean, std))\n",
    "print (\"Accuracy Confidence Interval (95%%): (%0.2f, %0.2f)\\n\" % \n",
    "       (inf, sup)) "
   ]
  },
  {
   "cell_type": "code",
   "execution_count": 8,
   "metadata": {},
   "outputs": [
    {
     "name": "stdout",
     "output_type": "stream",
     "text": [
      "[0.72222222 0.72222222 0.66666667 0.65714286 0.85714286]\n",
      "\n",
      "Mean Accuracy: 0.73 Standard Deviation: 0.07\n",
      "Accuracy Confidence Interval (95%): (0.66, 0.79)\n",
      "\n"
     ]
    }
   ],
   "source": [
    "from sklearn.neighbors import KNeighborsClassifier\n",
    "from sklearn.model_selection import cross_val_score\n",
    "\n",
    "# Classificador 1 vizinho mais próximo com peso na escolha\n",
    "threeNN = KNeighborsClassifier(n_neighbors = 3, weights = 'distance')\n",
    "\n",
    "scores = cross_val_score(threeNN, wine_X, wine_y, scoring='accuracy', \n",
    "                         cv = 5)\n",
    "\n",
    "print(scores)\n",
    "\n",
    "mean = scores.mean()\n",
    "std = scores.std()\n",
    "inf, sup = stats.norm.interval(0.95, loc=mean, \n",
    "                               scale=std/np.sqrt(len(scores)))\n",
    "\n",
    "print(\"\\nMean Accuracy: %0.2f Standard Deviation: %0.2f\" % (mean, std))\n",
    "print (\"Accuracy Confidence Interval (95%%): (%0.2f, %0.2f)\\n\" % \n",
    "       (inf, sup)) "
   ]
  },
  {
   "cell_type": "code",
   "execution_count": 9,
   "metadata": {},
   "outputs": [
    {
     "name": "stdout",
     "output_type": "stream",
     "text": [
      "[0.77777778 0.63888889 0.66666667 0.65714286 0.85714286]\n",
      "\n",
      "Mean Accuracy: 0.72 Standard Deviation: 0.08\n",
      "Accuracy Confidence Interval (95%): (0.65, 0.79)\n",
      "\n"
     ]
    }
   ],
   "source": [
    "from sklearn.neighbors import KNeighborsClassifier\n",
    "from sklearn.model_selection import cross_val_score\n",
    "\n",
    "# Classificador 1 vizinho mais próximo com peso na escolha\n",
    "fiveNN = KNeighborsClassifier(n_neighbors = 5, weights = 'distance')\n",
    "\n",
    "scores = cross_val_score(fiveNN, wine_X, wine_y, scoring='accuracy', \n",
    "                         cv = 5)\n",
    "\n",
    "print(scores)\n",
    "\n",
    "mean = scores.mean()\n",
    "std = scores.std()\n",
    "inf, sup = stats.norm.interval(0.95, loc=mean, \n",
    "                               scale=std/np.sqrt(len(scores)))\n",
    "\n",
    "print(\"\\nMean Accuracy: %0.2f Standard Deviation: %0.2f\" % (mean, std))\n",
    "print (\"Accuracy Confidence Interval (95%%): (%0.2f, %0.2f)\\n\" % \n",
    "       (inf, sup)) "
   ]
  },
  {
   "cell_type": "markdown",
   "metadata": {},
   "source": [
    "4. Obtenha a acurácia média, o desvio padrão e o intervalo de confiança a 95% do classificador\n",
    "Vizinho Mais Próximo usando validação cruzada com 10 dobras (folds) na base de dados (dataset)\n",
    "wine padronizada e não padronizada."
   ]
  },
  {
   "cell_type": "code",
   "execution_count": 10,
   "metadata": {},
   "outputs": [
    {
     "name": "stdout",
     "output_type": "stream",
     "text": [
      "[0.83333333 0.94444444 0.94444444 0.94444444 1.         0.94444444\n",
      " 1.         1.         0.88235294 0.94117647]\n",
      "\n",
      "Mean Accuracy: 0.94 Standard Deviation: 0.05\n",
      "Accuracy Confidence Interval (95%): (0.91, 0.97)\n",
      "\n"
     ]
    }
   ],
   "source": [
    "from sklearn.neighbors import KNeighborsClassifier\n",
    "from sklearn.model_selection import cross_val_score\n",
    "from sklearn.preprocessing import StandardScaler\n",
    "from sklearn.pipeline import Pipeline\n",
    "\n",
    "# Classificador 1 vizinho mais próximo com peso na escolha com dados normalizados\n",
    "oneNN = KNeighborsClassifier(n_neighbors = 1, weights = 'distance')\n",
    "\n",
    "scalar = StandardScaler()\n",
    "pipeline = Pipeline([('transformer', scalar), ('estimator', oneNN)])\n",
    "\n",
    "scores = cross_val_score(pipeline, wine_X, wine_y, scoring='accuracy', \n",
    "                         cv = 10)\n",
    "\n",
    "print(scores)\n",
    "\n",
    "mean = scores.mean()\n",
    "std = scores.std()\n",
    "inf, sup = stats.norm.interval(0.95, loc=mean, \n",
    "                               scale=std/np.sqrt(len(scores)))\n",
    "\n",
    "print(\"\\nMean Accuracy: %0.2f Standard Deviation: %0.2f\" % (mean, std))\n",
    "print (\"Accuracy Confidence Interval (95%%): (%0.2f, %0.2f)\\n\" % \n",
    "       (inf, sup)) "
   ]
  },
  {
   "cell_type": "code",
   "execution_count": 11,
   "metadata": {},
   "outputs": [
    {
     "name": "stdout",
     "output_type": "stream",
     "text": [
      "[0.83333333 0.77777778 0.66666667 0.55555556 0.61111111 0.83333333\n",
      " 0.77777778 0.77777778 0.82352941 0.82352941]\n",
      "\n",
      "Mean Accuracy: 0.75 Standard Deviation: 0.10\n",
      "Accuracy Confidence Interval (95%): (0.69, 0.81)\n",
      "\n"
     ]
    }
   ],
   "source": [
    "# Classificador 1 vizinho mais próximo com peso na escolha com dados não normalizados\n",
    "oneNN = KNeighborsClassifier(n_neighbors = 1, weights = 'distance')\n",
    "\n",
    "scores = cross_val_score(oneNN, wine_X, wine_y, scoring='accuracy', \n",
    "                         cv = 10)\n",
    "\n",
    "print(scores)\n",
    "\n",
    "mean = scores.mean()\n",
    "std = scores.std()\n",
    "inf, sup = stats.norm.interval(0.95, loc=mean, \n",
    "                               scale=std/np.sqrt(len(scores)))\n",
    "\n",
    "print(\"\\nMean Accuracy: %0.2f Standard Deviation: %0.2f\" % (mean, std))\n",
    "print (\"Accuracy Confidence Interval (95%%): (%0.2f, %0.2f)\\n\" % \n",
    "       (inf, sup)) "
   ]
  },
  {
   "cell_type": "markdown",
   "metadata": {},
   "source": [
    "5. Use os classificadores de Bagging\n",
    "(https://scikit-learn.org/stable/modules/generated/sklearn.ensemble.BaggingClassifier.html) e\n",
    "AdaBoost\n",
    "(https://scikit-learn.org/stable/modules/generated/sklearn.ensemble.AdaBoostClassifier.html) para\n",
    "realizar 3 repetições de validação cruzada aninhada com 10 folds no loop externo e 4 folds no loop\n",
    "interno. A busca em grade deve variar apenas a quantidade de classificadores do combinado\n",
    "considerando combinados com 10, 25 e 50 classificadores. A base de dados utilizada é a wine e\n",
    "deve ser padronizada. Apresente a acurácia média, o desvio padrão e o intervalo de confiança a 95%\n",
    "dos dois métodos e realize o teste t de Student para verificar se as diferenças são significativas."
   ]
  },
  {
   "cell_type": "code",
   "execution_count": 15,
   "metadata": {},
   "outputs": [
    {
     "name": "stdout",
     "output_type": "stream",
     "text": [
      "\n",
      "Mean Accuracy: 0.97 Standard Deviation: 0.05\n",
      "Accuracy Confidence Interval (95%): (0.95, 0.99)\n",
      "\n"
     ]
    }
   ],
   "source": [
    "from sklearn.ensemble import BaggingClassifier\n",
    "from sklearn.model_selection import RepeatedStratifiedKFold\n",
    "from sklearn.model_selection import GridSearchCV\n",
    "# Bagging\n",
    "bagging = BaggingClassifier()\n",
    "\n",
    "grade = {'estimator__n_estimators': [10, 25, 50]}\n",
    "\n",
    "scalar = StandardScaler()\n",
    "\n",
    "pipeline = Pipeline([('transformer', scalar), ('estimator', bagging)])\n",
    "\n",
    "gs = GridSearchCV(estimator = pipeline, param_grid = grade, scoring = 'accuracy', cv = 4)\n",
    "\n",
    "rkf = RepeatedStratifiedKFold(n_splits = 10, n_repeats = 3, random_state = 36851234)\n",
    "\n",
    "baggingScores = cross_val_score(gs, wine_X, wine_y, scoring = 'accuracy', cv = rkf)\n",
    "\n",
    "mean = baggingScores.mean()\n",
    "std = baggingScores.std()\n",
    "inf, sup = stats.norm.interval(0.95, loc=mean, scale=std/np.sqrt(len(baggingScores)))\n",
    "\n",
    "print(\"\\nMean Accuracy: %0.2f Standard Deviation: %0.2f\" % (mean, std))\n",
    "print(\"Accuracy Confidence Interval (95%%): (%0.2f, %0.2f)\\n\" % (inf, sup))"
   ]
  },
  {
   "cell_type": "code",
   "execution_count": 16,
   "metadata": {},
   "outputs": [
    {
     "name": "stdout",
     "output_type": "stream",
     "text": [
      "\n",
      "Mean Accuracy: 0.90 Standard Deviation: 0.09\n",
      "Accuracy Confidence Interval (95%): (0.87, 0.94)\n",
      "\n"
     ]
    }
   ],
   "source": [
    "# AdaBoost\n",
    "from sklearn.ensemble import AdaBoostClassifier\n",
    "\n",
    "adaBoost = AdaBoostClassifier()\n",
    "\n",
    "scalar = StandardScaler()\n",
    "\n",
    "pipeline = Pipeline([('transformer', scalar), ('estimator', adaBoost)])\n",
    "\n",
    "grade = {'estimator__n_estimators': [10, 25, 50]}\n",
    "\n",
    "gs = GridSearchCV(estimator = pipeline, param_grid = grade, scoring = 'accuracy', cv = 4)\n",
    "\n",
    "rkf = RepeatedStratifiedKFold(n_splits = 10, n_repeats = 3, random_state = 36851234)\n",
    "\n",
    "adaBoostScores = cross_val_score(gs, wine_X, wine_y, scoring='accuracy', cv = rkf)\n",
    "\n",
    "mean = adaBoostScores.mean()\n",
    "std = adaBoostScores.std()\n",
    "inf, sup = stats.norm.interval(0.95, loc=mean, scale=std/np.sqrt(len(baggingScores)))\n",
    "\n",
    "print(\"\\nMean Accuracy: %0.2f Standard Deviation: %0.2f\" % (mean, std))\n",
    "print(\"Accuracy Confidence Interval (95%%): (%0.2f, %0.2f)\\n\" % (inf, sup))"
   ]
  },
  {
   "cell_type": "code",
   "execution_count": 17,
   "metadata": {},
   "outputs": [
    {
     "name": "stdout",
     "output_type": "stream",
     "text": [
      "Student T Test: 0.0013733576696492637\n"
     ]
    }
   ],
   "source": [
    "# Teste T\n",
    "from scipy.stats import ttest_rel\n",
    "\n",
    "s, p = ttest_rel(baggingScores, adaBoostScores)\n",
    "\n",
    "print('Student T Test: {}'.format(p))"
   ]
  },
  {
   "cell_type": "markdown",
   "metadata": {},
   "source": [
    "6. Crie um classificador Tabela que classifica exemplos iguais com a mesma classe e exemplos\n",
    "distintos com a classe majoritária. Avalie este classificador usando na base iris a estratégia de\n",
    "resubstituição (na qual treino e teste são os mesmos conjuntos) e usando uma divisão percentual de\n",
    "70% dos exemplos usados para treino e 30% dos exemplos usados para teste. Compare os\n",
    "resultados e justifique apontando qual resultado tem maior chance de ser generalizado."
   ]
  },
  {
   "cell_type": "code",
   "execution_count": 62,
   "metadata": {},
   "outputs": [],
   "source": [
    "from sklearn.base import BaseEstimator\n",
    "\n",
    "class tableClassifier(BaseEstimator):\n",
    "    def __init__(self):\n",
    "        super().__init__()\n",
    "\n",
    "    def fit(self, X_train, y_train):\n",
    "      classes, frequency = np.unique(y_train, return_counts = True)\n",
    "      max_freq = max(frequency)\n",
    "      self.__majority_class = [x for x, y in zip(classes, frequency) if y == max_freq][0]\n",
    "      self.__data = X_train.tolist()\n",
    "      self.__labels = y_train.tolist()\n",
    "      return\n",
    "      \n",
    "    def predict(self, X_test):\n",
    "      result = []\n",
    "\n",
    "      for test in X_test:\n",
    "        try:\n",
    "          index = self.__data.index(test.tolist())\n",
    "          result.append(self.__labels[index])\n",
    "        except Exception as e:\n",
    "          result.append(self.__majority_class)\n",
    "      return result"
   ]
  },
  {
   "cell_type": "code",
   "execution_count": 74,
   "metadata": {},
   "outputs": [
    {
     "name": "stdout",
     "output_type": "stream",
     "text": [
      "Acuraccy:  1.0\n"
     ]
    }
   ],
   "source": [
    "def accuracy(predicted, real):\n",
    "  return len([x for x, _ in zip(predicted, real) if x == _ ]) / len(real)\n",
    "\n",
    "# Treinando e testando com os mesmos dados\n",
    "from sklearn import datasets\n",
    "iris = datasets.load_iris()\n",
    "iris_X = iris.data\n",
    "iris_y = iris.target\n",
    "\n",
    "table = tableClassifier()\n",
    "\n",
    "table.fit(iris_X, iris_y)\n",
    "predicted = table.predict(iris_X)\n",
    "\n",
    "print('Accuracy: ', accuracy(predicted, iris_y.tolist()))\n"
   ]
  },
  {
   "cell_type": "code",
   "execution_count": 97,
   "metadata": {},
   "outputs": [
    {
     "name": "stdout",
     "output_type": "stream",
     "text": [
      "Accuracy:  0.3111111111111111\n",
      "Accuracy:  0.3111111111111111\n",
      "Accuracy:  0.2222222222222222\n",
      "Accuracy:  0.24444444444444444\n",
      "Accuracy:  0.28888888888888886\n",
      "Accuracy:  0.24444444444444444\n",
      "Accuracy:  0.24444444444444444\n",
      "Accuracy:  0.24444444444444444\n",
      "Accuracy:  0.28888888888888886\n",
      "Accuracy:  0.28888888888888886\n"
     ]
    }
   ],
   "source": [
    "from sklearn.model_selection import train_test_split\n",
    "\n",
    "# Treinando com 70% dos dados e testando com 30% dos dados\n",
    "# Rodando várias vezes\n",
    "for i in range(10):\n",
    "  X_train, X_test, y_train, y_test = train_test_split(iris_X, iris_y, test_size=0.3)\n",
    "  table = tableClassifier()\n",
    "\n",
    "  table.fit(X_train, y_train)\n",
    "  predicted = table.predict(X_test)\n",
    "  print('Accuracy: ', accuracy(predicted, y_test.tolist()))"
   ]
  },
  {
   "cell_type": "markdown",
   "metadata": {},
   "source": [
    "O resultado que melhor generaliza é o que divide a base de dados em treino 30% e teste 70%, pois é bem mais provável que valores preditos estejam fora da base de dados."
   ]
  }
 ],
 "metadata": {
  "kernelspec": {
   "display_name": "Python 3.10.6 64-bit",
   "language": "python",
   "name": "python3"
  },
  "language_info": {
   "codemirror_mode": {
    "name": "ipython",
    "version": 3
   },
   "file_extension": ".py",
   "mimetype": "text/x-python",
   "name": "python",
   "nbconvert_exporter": "python",
   "pygments_lexer": "ipython3",
   "version": "3.10.6"
  },
  "orig_nbformat": 4,
  "vscode": {
   "interpreter": {
    "hash": "916dbcbb3f70747c44a77c7bcd40155683ae19c65e1c03b4aa3499c5328201f1"
   }
  }
 },
 "nbformat": 4,
 "nbformat_minor": 2
}
